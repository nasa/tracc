{
 "cells": [
  {
   "cell_type": "markdown",
   "id": "7ad7c8f2",
   "metadata": {},
   "source": [
    "# A Methodology for Machine Learning Analysis of Space-Exposed Murine Liver (Transcriptomics)\n",
    "\n",
    "The purpose of this analysis notebook is to provide the necessary code to perform our analysis and generate figures necessary for our the publication *Spaced Out Data No More: Genomic Harmonization Meets Machine Learning in Murine Livers*. This notebook can be executed to identify psuedogenes, and pre-filter the ENSEMBL gene IDs from GLDS. Identify subset of genes with valid external IDs (NCBI standard).\n",
    "\n",
    "- Notebook Author: Hari Ilangovan\n",
    "\n",
    "\n",
    "|Version History | Date | \n",
    "|----------| ----- |\n",
    "|v0| 12/10/2022 | \n",
    "|v1 | 11/2/2023 | \n",
    "\n",
    "\n",
    "Publication Authorship:\n",
    "- Hari Ilangovan<sup>1</sup>\n",
    "- Prachi Kothiyal<sup>2</sup>\n",
    "- Katherine A. Hoadley<sup>3</sup>\n",
    "- Robin Elgart<sup>4</sup>\n",
    "- Greg Eley<sup>2</sup>\n",
    "- Parastou Eslami<sup>5</sup>\n",
    "\n",
    "<sup>1</sup> Science Applications International Corporation (SAIC), Reston, VA 20190, USA\n",
    "<sup>2</sup>Scimentis LLC, Statham, GA 30666, USA\n",
    "<sup>3</sup>Department of Genetics, Computational Medicine Program, Lineberger Comprehensive Cancer Center, University of North Caroline at Chapel Hill, Chapel Hill, NC 27599, USA\n",
    "<sup>4</sup>University of Houston, Houston, TX 77204, USA\n",
    "<sup>5</sup>Universal Artificial Intelligence Inc, Boston, MA 02130, USA"
   ]
  },
  {
   "cell_type": "markdown",
   "id": "21e0d71e-8ff4-437a-9047-b76adfa2a7f1",
   "metadata": {},
   "source": [
    "# Table of Contents"
   ]
  },
  {
   "cell_type": "markdown",
   "id": "e62fe2a3-4170-4281-9324-d6169d453dba",
   "metadata": {
    "tags": []
   },
   "source": [
    "- [Library Loading](#Directory-Configuration-and-Package-Loading)\n",
    "- [BioMaRt Query - ENSEMBL to Gene Symbol Mapping](#Gene-Symbol-Conversion)\n",
    "- [Filtering for Protein Coding Genes](#Filtering-BioMart-Query-for-Protein-Coding-Genes)"
   ]
  },
  {
   "cell_type": "markdown",
   "id": "645669f6-efc0-40dd-b1cf-ac66e17a179f",
   "metadata": {},
   "source": [
    "## Directory Configuration and Package Loading"
   ]
  },
  {
   "cell_type": "markdown",
   "id": "141b25e2-4433-4acf-8ec0-1d8ee871283b",
   "metadata": {},
   "source": [
    "[Back to Top](#Table-of-Contents)"
   ]
  },
  {
   "cell_type": "markdown",
   "id": "edd5ce88-c703-48d6-a567-b916ed752be2",
   "metadata": {},
   "source": [
    "We change the working directory to the helper function and metadata reference directory"
   ]
  },
  {
   "cell_type": "code",
   "execution_count": 1,
   "id": "19fa3d53-5a1e-4432-bdf8-ab6828d6bd40",
   "metadata": {},
   "outputs": [],
   "source": [
    "generate_flat_files = TRUE"
   ]
  },
  {
   "cell_type": "code",
   "execution_count": 2,
   "id": "18300dd5-dd03-4355-beab-a1939a94f9a2",
   "metadata": {},
   "outputs": [],
   "source": [
    "setwd(\"./../scripts/\")"
   ]
  },
  {
   "cell_type": "code",
   "execution_count": 3,
   "id": "ae54ce2f",
   "metadata": {
    "tags": []
   },
   "outputs": [
    {
     "name": "stderr",
     "output_type": "stream",
     "text": [
      "Loading required package: data.table\n",
      "\n",
      "Loading required package: dplyr\n",
      "\n",
      "\n",
      "Attaching package: ‘dplyr’\n",
      "\n",
      "\n",
      "The following objects are masked from ‘package:data.table’:\n",
      "\n",
      "    between, first, last\n",
      "\n",
      "\n",
      "The following objects are masked from ‘package:stats’:\n",
      "\n",
      "    filter, lag\n",
      "\n",
      "\n",
      "The following objects are masked from ‘package:base’:\n",
      "\n",
      "    intersect, setdiff, setequal, union\n",
      "\n",
      "\n",
      "Loading required package: biomaRt\n",
      "\n",
      "Possible Ensembl SSL connectivity problems detected.\n",
      "Please see the 'Connection Troubleshooting' section of the biomaRt vignette\n",
      "vignette('accessing_ensembl', package = 'biomaRt')Error in curl::curl_fetch_memory(url, handle = handle) : \n",
      "  SSL peer certificate or SSH remote key was not OK: [uswest.ensembl.org] SSL certificate problem: certificate has expired\n",
      "\n",
      "\n"
     ]
    }
   ],
   "source": [
    "# load packages - biomaRt is essential for query\n",
    "require('data.table')\n",
    "require('dplyr')\n",
    "require('biomaRt')"
   ]
  },
  {
   "cell_type": "markdown",
   "id": "70eb0541",
   "metadata": {},
   "source": [
    "## Gene Symbol Conversion"
   ]
  },
  {
   "cell_type": "markdown",
   "id": "cc4f7c5e-28e4-413e-b403-92fa59613b45",
   "metadata": {},
   "source": [
    "[Back to Top](#Table-of-Contents)"
   ]
  },
  {
   "cell_type": "code",
   "execution_count": 4,
   "id": "5cb1895c",
   "metadata": {},
   "outputs": [],
   "source": [
    "httr::set_config(httr::config(ssl_verifypeer = FALSE))"
   ]
  },
  {
   "cell_type": "code",
   "execution_count": 5,
   "id": "569c4774",
   "metadata": {},
   "outputs": [],
   "source": [
    "# BioMaRt query to obtain ENSEMBL Gene ID mapping to Gene Symbol\n",
    "mart <- useMart('ENSEMBL_MART_ENSEMBL')\n",
    "mart <- useDataset('mmusculus_gene_ensembl', mart)\n",
    "\n",
    "annotLookup <- getBM(\n",
    "mart = mart,\n",
    "attributes = c(\n",
    "'ensembl_gene_id',\n",
    "'ensembl_transcript_id',\n",
    "'external_gene_name',\n",
    "'gene_biotype'),\n",
    "uniqueRows = TRUE)"
   ]
  },
  {
   "cell_type": "code",
   "execution_count": 6,
   "id": "1544fea0",
   "metadata": {},
   "outputs": [
    {
     "data": {
      "text/html": [
       "<table class=\"dataframe\">\n",
       "<caption>A data.frame: 6 × 4</caption>\n",
       "<thead>\n",
       "\t<tr><th></th><th scope=col>ensembl_gene_id</th><th scope=col>ensembl_transcript_id</th><th scope=col>external_gene_name</th><th scope=col>gene_biotype</th></tr>\n",
       "\t<tr><th></th><th scope=col>&lt;chr&gt;</th><th scope=col>&lt;chr&gt;</th><th scope=col>&lt;chr&gt;</th><th scope=col>&lt;chr&gt;</th></tr>\n",
       "</thead>\n",
       "<tbody>\n",
       "\t<tr><th scope=row>1</th><td>ENSMUSG00000064336</td><td>ENSMUST00000082387</td><td>mt-Tf  </td><td>Mt_tRNA       </td></tr>\n",
       "\t<tr><th scope=row>2</th><td>ENSMUSG00000064337</td><td>ENSMUST00000082388</td><td>mt-Rnr1</td><td>Mt_rRNA       </td></tr>\n",
       "\t<tr><th scope=row>3</th><td>ENSMUSG00000064338</td><td>ENSMUST00000082389</td><td>mt-Tv  </td><td>Mt_tRNA       </td></tr>\n",
       "\t<tr><th scope=row>4</th><td>ENSMUSG00000064339</td><td>ENSMUST00000082390</td><td>mt-Rnr2</td><td>Mt_rRNA       </td></tr>\n",
       "\t<tr><th scope=row>5</th><td>ENSMUSG00000064340</td><td>ENSMUST00000082391</td><td>mt-Tl1 </td><td>Mt_tRNA       </td></tr>\n",
       "\t<tr><th scope=row>6</th><td>ENSMUSG00000064341</td><td>ENSMUST00000082392</td><td>mt-Nd1 </td><td>protein_coding</td></tr>\n",
       "</tbody>\n",
       "</table>\n"
      ],
      "text/latex": [
       "A data.frame: 6 × 4\n",
       "\\begin{tabular}{r|llll}\n",
       "  & ensembl\\_gene\\_id & ensembl\\_transcript\\_id & external\\_gene\\_name & gene\\_biotype\\\\\n",
       "  & <chr> & <chr> & <chr> & <chr>\\\\\n",
       "\\hline\n",
       "\t1 & ENSMUSG00000064336 & ENSMUST00000082387 & mt-Tf   & Mt\\_tRNA       \\\\\n",
       "\t2 & ENSMUSG00000064337 & ENSMUST00000082388 & mt-Rnr1 & Mt\\_rRNA       \\\\\n",
       "\t3 & ENSMUSG00000064338 & ENSMUST00000082389 & mt-Tv   & Mt\\_tRNA       \\\\\n",
       "\t4 & ENSMUSG00000064339 & ENSMUST00000082390 & mt-Rnr2 & Mt\\_rRNA       \\\\\n",
       "\t5 & ENSMUSG00000064340 & ENSMUST00000082391 & mt-Tl1  & Mt\\_tRNA       \\\\\n",
       "\t6 & ENSMUSG00000064341 & ENSMUST00000082392 & mt-Nd1  & protein\\_coding\\\\\n",
       "\\end{tabular}\n"
      ],
      "text/markdown": [
       "\n",
       "A data.frame: 6 × 4\n",
       "\n",
       "| <!--/--> | ensembl_gene_id &lt;chr&gt; | ensembl_transcript_id &lt;chr&gt; | external_gene_name &lt;chr&gt; | gene_biotype &lt;chr&gt; |\n",
       "|---|---|---|---|---|\n",
       "| 1 | ENSMUSG00000064336 | ENSMUST00000082387 | mt-Tf   | Mt_tRNA        |\n",
       "| 2 | ENSMUSG00000064337 | ENSMUST00000082388 | mt-Rnr1 | Mt_rRNA        |\n",
       "| 3 | ENSMUSG00000064338 | ENSMUST00000082389 | mt-Tv   | Mt_tRNA        |\n",
       "| 4 | ENSMUSG00000064339 | ENSMUST00000082390 | mt-Rnr2 | Mt_rRNA        |\n",
       "| 5 | ENSMUSG00000064340 | ENSMUST00000082391 | mt-Tl1  | Mt_tRNA        |\n",
       "| 6 | ENSMUSG00000064341 | ENSMUST00000082392 | mt-Nd1  | protein_coding |\n",
       "\n"
      ],
      "text/plain": [
       "  ensembl_gene_id    ensembl_transcript_id external_gene_name gene_biotype  \n",
       "1 ENSMUSG00000064336 ENSMUST00000082387    mt-Tf              Mt_tRNA       \n",
       "2 ENSMUSG00000064337 ENSMUST00000082388    mt-Rnr1            Mt_rRNA       \n",
       "3 ENSMUSG00000064338 ENSMUST00000082389    mt-Tv              Mt_tRNA       \n",
       "4 ENSMUSG00000064339 ENSMUST00000082390    mt-Rnr2            Mt_rRNA       \n",
       "5 ENSMUSG00000064340 ENSMUST00000082391    mt-Tl1             Mt_tRNA       \n",
       "6 ENSMUSG00000064341 ENSMUST00000082392    mt-Nd1             protein_coding"
      ]
     },
     "metadata": {},
     "output_type": "display_data"
    }
   ],
   "source": [
    "# inspect the query head to confirm the query structure\n",
    "head(annotLookup)"
   ]
  },
  {
   "cell_type": "markdown",
   "id": "07dcfc78-33cf-4249-8544-6a4ea502fb70",
   "metadata": {},
   "source": [
    "## Filtering BioMart Query for Protein Coding Genes"
   ]
  },
  {
   "cell_type": "markdown",
   "id": "896f26bd-af5e-4e44-8278-75d874a40c4d",
   "metadata": {},
   "source": [
    "[Back to Top](#Table-of-Contents)"
   ]
  },
  {
   "cell_type": "code",
   "execution_count": 7,
   "id": "0af04895",
   "metadata": {},
   "outputs": [],
   "source": [
    "# perform this filter to identify genes with \"pseudogene\" in its biotype\n",
    "pseudogene_list <- annotLookup[annotLookup$gene_biotype %like% \"pseudogene\",] %>% dplyr::select(c(ensembl_gene_id, external_gene_name))\n",
    "# this filter identifies genes without \"pseudogene\" in its biotype\n",
    "non_pseudogene_list <- annotLookup[!(annotLookup$gene_biotype %like% \"pseudogene\"),] %>% dplyr::select(c(ensembl_gene_id, external_gene_name))\n",
    "# this filter identifies genes without \"pseudogene\" in its biotype AND non-empty external IDs\n",
    "non_pseudogene_wExternal_list <- non_pseudogene_list[-which(non_pseudogene_list$external_gene_name == \"\"),]"
   ]
  },
  {
   "cell_type": "code",
   "execution_count": 8,
   "id": "e1f58ac6",
   "metadata": {},
   "outputs": [],
   "source": [
    "# import the ENSEMBL IDs from GeneLab Data Sets\n",
    "genelist_complete <- read.table('./data/raw_counts/379.csv', header=TRUE, sep=\",\", row.names = 1)\n",
    "genelist_complete <- rownames(genelist_complete) %>% as.data.frame() \n",
    "colnames(genelist_complete) <- c(\"ensemble_gene_id\")"
   ]
  },
  {
   "cell_type": "code",
   "execution_count": 9,
   "id": "d78523bf",
   "metadata": {},
   "outputs": [],
   "source": [
    "# filter for only non-pseudogenes with external IDs\n",
    "genelist_keep_non_pseudo <- genelist_complete %>% dplyr::filter(genelist_complete$ensemble_gene_id %in% non_pseudogene_wExternal_list$ensembl_gene_id)\n",
    "if (generate_flat_files) {\n",
    "    write.table(genelist_keep_non_pseudo, './data/prefiltering/glds_no_pseudogenes_wExternal.csv', row.names=FALSE, sep=',', quote=FALSE)\n",
    "}"
   ]
  }
 ],
 "metadata": {
  "kernelspec": {
   "display_name": "R",
   "language": "R",
   "name": "ir"
  },
  "language_info": {
   "codemirror_mode": "r",
   "file_extension": ".r",
   "mimetype": "text/x-r-source",
   "name": "R",
   "pygments_lexer": "r",
   "version": "4.0.5"
  }
 },
 "nbformat": 4,
 "nbformat_minor": 5
}
