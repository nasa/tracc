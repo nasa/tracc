{
 "cells": [
  {
   "cell_type": "markdown",
   "id": "75167fc8-d392-486b-9c42-8cf8a659c10e",
   "metadata": {},
   "source": [
    "# A Methodology for Machine Learning Analysis of Space-Exposed Murine Liver (Transcriptomics)\n",
    "\n",
    "The purpose of this analysis notebook is to provide the necessary code to perform our analysis and generate figures necessary for our the publication *Spaced Out Data No More: Genomic Harmonization Meets Machine Learning in Murine Livers*. \n",
    "\n",
    "- Notebook Author: Hari Ilangovan\n",
    "\n",
    "\n",
    "|Version History | Date | \n",
    "|----------| ----- |\n",
    "|v0| 12/10/2022 | \n",
    "|v1 | 11/2/2023 | \n",
    "\n",
    "\n",
    "Publication Authorship:\n",
    "- Hari Ilangovan<sup>1</sup>\n",
    "- Prachi Kothiyal<sup>2</sup>\n",
    "- Katherine A. Hoadley<sup>3</sup>\n",
    "- Robin Elgart<sup>4</sup>\n",
    "- Greg Eley<sup>2</sup>\n",
    "- Parastou Eslami<sup>5</sup>\n",
    "\n",
    "<sup>1</sup> Science Applications International Corporation (SAIC), Reston, VA 20190, USA\n",
    "<sup>2</sup>Scimentis LLC, Statham, GA 30666, USA\n",
    "<sup>3</sup>Department of Genetics, Computational Medicine Program, Lineberger Comprehensive Cancer Center, University of North Caroline at Chapel Hill, Chapel Hill, NC 27599, USA\n",
    "<sup>4</sup>University of Houston, Houston, TX 77204, USA\n",
    "<sup>5</sup>Universal Artificial Intelligence Inc, Boston, MA 02130, USA"
   ]
  },
  {
   "cell_type": "markdown",
   "id": "ebcdcd5b-21fe-436d-bb2d-da78d6a5db7f",
   "metadata": {
    "tags": []
   },
   "source": [
    "# Quick links\n",
    "- Gene Set Enrichment Analysis\n",
    "  - [GSEA (ML Models)](#Gene-Set-Enrichment-Analysis-for-RF-LDA-SVM)\n",
    "  - [GSEA (RR Missions)](#Gene-Set-Enrichment-Analysis-for-RR-Missions-(Fold-Change))\n",
    "- Genes Contributing to Gene Ontology Gene Signatures \n",
    "  - [SVM GO BPs](#SVM---Contributing-Genes-to-GO-BP-Analysis)\n",
    "- Relaxed GSEA Analysis to Compare Directionality of Normalized Enrichment Scores\n",
    "  - [Relaxed GSEA Analysis](#SVM-to-RR-Mission-GO-BP-Comparison)\n",
    "- Mus Musculus Strain Reference Analysis\n",
    "  - [Genetic Background Lookup](#Genetic-Backround-Comparison)\n",
    "- [Gene Ranking Overlaps](#MRMR-Gene-Ranking-Overlaps-with-SVM-LDA-and-RF)\n",
    "- [Single & Merged Only - Contributing Genes to GO BPs](#RR---Single-&-Merged-Study-Only-Contributing-Genes-to-GO-BPs)"
   ]
  },
  {
   "cell_type": "code",
   "execution_count": 1,
   "id": "00fd986a",
   "metadata": {
    "scrolled": true,
    "tags": []
   },
   "outputs": [
    {
     "name": "stderr",
     "output_type": "stream",
     "text": [
      "\n",
      "Attaching package: ‘dplyr’\n",
      "\n",
      "\n",
      "The following objects are masked from ‘package:stats’:\n",
      "\n",
      "    filter, lag\n",
      "\n",
      "\n",
      "The following objects are masked from ‘package:base’:\n",
      "\n",
      "    intersect, setdiff, setequal, union\n",
      "\n",
      "\n",
      "── \u001b[1mAttaching core tidyverse packages\u001b[22m ──────────────────────── tidyverse 2.0.0 ──\n",
      "\u001b[32m✔\u001b[39m \u001b[34mforcats  \u001b[39m 1.0.0     \u001b[32m✔\u001b[39m \u001b[34mreadr    \u001b[39m 2.1.4\n",
      "\u001b[32m✔\u001b[39m \u001b[34mggplot2  \u001b[39m 3.4.2     \u001b[32m✔\u001b[39m \u001b[34mstringr  \u001b[39m 1.5.0\n",
      "\u001b[32m✔\u001b[39m \u001b[34mlubridate\u001b[39m 1.9.2     \u001b[32m✔\u001b[39m \u001b[34mtibble   \u001b[39m 3.2.1\n",
      "\u001b[32m✔\u001b[39m \u001b[34mpurrr    \u001b[39m 1.0.1     \u001b[32m✔\u001b[39m \u001b[34mtidyr    \u001b[39m 1.3.0\n",
      "── \u001b[1mConflicts\u001b[22m ────────────────────────────────────────── tidyverse_conflicts() ──\n",
      "\u001b[31m✖\u001b[39m \u001b[34mdplyr\u001b[39m::\u001b[32mfilter()\u001b[39m masks \u001b[34mstats\u001b[39m::filter()\n",
      "\u001b[31m✖\u001b[39m \u001b[34mdplyr\u001b[39m::\u001b[32mlag()\u001b[39m    masks \u001b[34mstats\u001b[39m::lag()\n",
      "\u001b[36mℹ\u001b[39m Use the conflicted package (\u001b[3m\u001b[34m<http://conflicted.r-lib.org/>\u001b[39m\u001b[23m) to force all conflicts to become errors\n",
      "\n",
      "\n",
      "clusterProfiler v3.18.1  For help: https://guangchuangyu.github.io/software/clusterProfiler\n",
      "\n",
      "If you use clusterProfiler in published research, please cite:\n",
      "Guangchuang Yu, Li-Gen Wang, Yanyan Han, Qing-Yu He. clusterProfiler: an R package for comparing biological themes among gene clusters. OMICS: A Journal of Integrative Biology. 2012, 16(5):284-287.\n",
      "\n",
      "\n",
      "Attaching package: ‘clusterProfiler’\n",
      "\n",
      "\n",
      "The following object is masked from ‘package:purrr’:\n",
      "\n",
      "    simplify\n",
      "\n",
      "\n",
      "The following object is masked from ‘package:stats’:\n",
      "\n",
      "    filter\n",
      "\n",
      "\n",
      "Loading required package: AnnotationDbi\n",
      "\n",
      "Loading required package: stats4\n",
      "\n",
      "Loading required package: BiocGenerics\n",
      "\n",
      "Loading required package: parallel\n",
      "\n",
      "\n",
      "Attaching package: ‘BiocGenerics’\n",
      "\n",
      "\n",
      "The following objects are masked from ‘package:parallel’:\n",
      "\n",
      "    clusterApply, clusterApplyLB, clusterCall, clusterEvalQ,\n",
      "    clusterExport, clusterMap, parApply, parCapply, parLapply,\n",
      "    parLapplyLB, parRapply, parSapply, parSapplyLB\n",
      "\n",
      "\n",
      "The following objects are masked from ‘package:lubridate’:\n",
      "\n",
      "    intersect, setdiff, union\n",
      "\n",
      "\n",
      "The following objects are masked from ‘package:dplyr’:\n",
      "\n",
      "    combine, intersect, setdiff, union\n",
      "\n",
      "\n",
      "The following objects are masked from ‘package:stats’:\n",
      "\n",
      "    IQR, mad, sd, var, xtabs\n",
      "\n",
      "\n",
      "The following objects are masked from ‘package:base’:\n",
      "\n",
      "    anyDuplicated, append, as.data.frame, basename, cbind, colnames,\n",
      "    dirname, do.call, duplicated, eval, evalq, Filter, Find, get, grep,\n",
      "    grepl, intersect, is.unsorted, lapply, Map, mapply, match, mget,\n",
      "    order, paste, pmax, pmax.int, pmin, pmin.int, Position, rank,\n",
      "    rbind, Reduce, rownames, sapply, setdiff, sort, table, tapply,\n",
      "    union, unique, unsplit, which.max, which.min\n",
      "\n",
      "\n",
      "Loading required package: Biobase\n",
      "\n",
      "Welcome to Bioconductor\n",
      "\n",
      "    Vignettes contain introductory material; view with\n",
      "    'browseVignettes()'. To cite Bioconductor, see\n",
      "    'citation(\"Biobase\")', and for packages 'citation(\"pkgname\")'.\n",
      "\n",
      "\n",
      "Loading required package: IRanges\n",
      "\n",
      "Loading required package: S4Vectors\n",
      "\n",
      "\n",
      "Attaching package: ‘S4Vectors’\n",
      "\n",
      "\n",
      "The following object is masked from ‘package:clusterProfiler’:\n",
      "\n",
      "    rename\n",
      "\n",
      "\n",
      "The following objects are masked from ‘package:lubridate’:\n",
      "\n",
      "    second, second<-\n",
      "\n",
      "\n",
      "The following object is masked from ‘package:tidyr’:\n",
      "\n",
      "    expand\n",
      "\n",
      "\n",
      "The following objects are masked from ‘package:dplyr’:\n",
      "\n",
      "    first, rename\n",
      "\n",
      "\n",
      "The following object is masked from ‘package:base’:\n",
      "\n",
      "    expand.grid\n",
      "\n",
      "\n",
      "\n",
      "Attaching package: ‘IRanges’\n",
      "\n",
      "\n",
      "The following object is masked from ‘package:clusterProfiler’:\n",
      "\n",
      "    slice\n",
      "\n",
      "\n",
      "The following object is masked from ‘package:lubridate’:\n",
      "\n",
      "    %within%\n",
      "\n",
      "\n",
      "The following object is masked from ‘package:purrr’:\n",
      "\n",
      "    reduce\n",
      "\n",
      "\n",
      "The following objects are masked from ‘package:dplyr’:\n",
      "\n",
      "    collapse, desc, slice\n",
      "\n",
      "\n",
      "\n",
      "Attaching package: ‘AnnotationDbi’\n",
      "\n",
      "\n",
      "The following object is masked from ‘package:clusterProfiler’:\n",
      "\n",
      "    select\n",
      "\n",
      "\n",
      "The following object is masked from ‘package:dplyr’:\n",
      "\n",
      "    select\n",
      "\n",
      "\n",
      "\n",
      "\n",
      "\n",
      "Attaching package: ‘data.table’\n",
      "\n",
      "\n",
      "The following object is masked from ‘package:IRanges’:\n",
      "\n",
      "    shift\n",
      "\n",
      "\n",
      "The following objects are masked from ‘package:S4Vectors’:\n",
      "\n",
      "    first, second\n",
      "\n",
      "\n",
      "The following objects are masked from ‘package:lubridate’:\n",
      "\n",
      "    hour, isoweek, mday, minute, month, quarter, second, wday, week,\n",
      "    yday, year\n",
      "\n",
      "\n",
      "The following object is masked from ‘package:purrr’:\n",
      "\n",
      "    transpose\n",
      "\n",
      "\n",
      "The following objects are masked from ‘package:dplyr’:\n",
      "\n",
      "    between, first, last\n",
      "\n",
      "\n"
     ]
    }
   ],
   "source": [
    "library(dplyr)\n",
    "library(patchwork)\n",
    "library(tidyverse)\n",
    "library(clusterProfiler)\n",
    "organism=\"org.Mm.eg.db\"\n",
    "library(organism, character.only = TRUE)\n",
    "library(rrvgo)\n",
    "library(data.table)\n",
    "library(nVennR)\n",
    "library(rjson)"
   ]
  },
  {
   "cell_type": "code",
   "execution_count": 2,
   "id": "a4eaebd1-9f8b-4411-9d02-12a70af9b3a3",
   "metadata": {},
   "outputs": [],
   "source": [
    "generate_flat_files = TRUE"
   ]
  },
  {
   "cell_type": "code",
   "execution_count": 3,
   "id": "4056c6df",
   "metadata": {},
   "outputs": [],
   "source": [
    "setwd('./../scripts/')"
   ]
  },
  {
   "cell_type": "markdown",
   "id": "47a2be83",
   "metadata": {},
   "source": [
    "# Gene Set Enrichment Analysis for RF LDA SVM"
   ]
  },
  {
   "cell_type": "markdown",
   "id": "21d6dea3",
   "metadata": {},
   "source": [
    "[Quick Links](#Quick-links)"
   ]
  },
  {
   "cell_type": "markdown",
   "id": "ca41a96f-2461-4672-b5fa-34e3c34d85ec",
   "metadata": {},
   "source": [
    "The following code block is used to generate GSEA results using the `clusterProfiler` package."
   ]
  },
  {
   "cell_type": "markdown",
   "id": "981d0ca8-1d6a-4c9d-92d2-98d2c2dcb97f",
   "metadata": {},
   "source": [
    "We run the Gene Set Enrichment Analysis algorithm on the SVM coefficients generated from the `Python Mouse Liver Manuscript.ipynb` and saved into the `./data/coefficient_results/svm_importances.csv` file. "
   ]
  },
  {
   "cell_type": "code",
   "execution_count": 222,
   "id": "baaab411",
   "metadata": {},
   "outputs": [],
   "source": [
    "svm_scores <- read.table('./data/coefficient_results/svm_importances.csv', header=TRUE, sep=',', row.names=1)\n",
    "colnames(svm_scores) <- 'SVM.Coefficients'"
   ]
  },
  {
   "cell_type": "code",
   "execution_count": 229,
   "id": "7f956060-a92b-4185-8ab2-e559ad5f88a1",
   "metadata": {},
   "outputs": [],
   "source": [
    "run_gsea <- function(scores, go_bp_comparison_dir, go_bp_dir) {\n",
    "    gse <- gseGO(geneList=scores,\n",
    "             ont =\"BP\",\n",
    "             keyType=\"ENTREZID\",\n",
    "             exponent=1,\n",
    "             eps=0,\n",
    "             pvalueCutoff = 0.9,\n",
    "             pAdjustMethod = \"BH\",\n",
    "             OrgDb = org.Mm.eg.db)\n",
    "\n",
    "    if (generate_flat_files) {\n",
    "        write.table(gse, paste0(\"./data/\", go_bp_comparison_dir), sep=\"\\t\",quote=TRUE,row.names=F)\n",
    "        dplyr::filter(gse@result, p.adjust <= 0.1) %>% write.table(paste0(\"./data/\", go_bp_dir), sep=\"\\t\",quote=TRUE,row.names=F)\n",
    "    }\n",
    "}"
   ]
  },
  {
   "cell_type": "code",
   "execution_count": 224,
   "id": "f12a7a76",
   "metadata": {
    "scrolled": true
   },
   "outputs": [
    {
     "name": "stderr",
     "output_type": "stream",
     "text": [
      "'select()' returned 1:many mapping between keys and columns\n",
      "\n",
      "preparing geneSet collections...\n",
      "\n",
      "GSEA analysis...\n",
      "\n",
      "leading edge analysis...\n",
      "\n",
      "done...\n",
      "\n"
     ]
    }
   ],
   "source": [
    "# entrez mapping\n",
    "svm_scores$ENTREZID<-mapIds(org.Mm.eg.db,keys = row.names(svm_scores) ,keytype = \"ENSEMBL\", column = \"ENTREZID\", multiVals = \"first\")\n",
    "svm_scores <- svm_scores[!duplicated(svm_scores[c(\"ENTREZID\")]),]\n",
    "svm_scores <- svm_scores %>% arrange(desc(SVM.Coefficients))\n",
    "\n",
    "rankMetric2 <- svm_scores$SVM.Coefficients\n",
    "names(rankMetric2) <- svm_scores$ENTREZID\n",
    "\n",
    "run_gsea(rankMetric2, \"go_bp_comparison_results/svm_gseGO_high_pval.tsv\", \"combined_study_go_terms/svm_coeff_gseGO.tsv\")"
   ]
  },
  {
   "cell_type": "markdown",
   "id": "5c1e5061",
   "metadata": {
    "tags": []
   },
   "source": [
    "# Gene Set Enrichment Analysis for RR Missions (Fold-Change)"
   ]
  },
  {
   "cell_type": "markdown",
   "id": "a9aad6cd",
   "metadata": {},
   "source": [
    "[Quick Links](#Quick-links)"
   ]
  },
  {
   "cell_type": "markdown",
   "id": "26c82976-17fa-4099-9f83-8b9407a618b6",
   "metadata": {},
   "source": [
    "The Gene Set Enrichment Analysis is run using ranked fold changes, which can be computed from the raw expression files. The fold-change expression results in the `scripts/data/expression_results/` directory should be populated prior to running this analysis. The steps for downloading the raw counts data are included in the `README.md` file."
   ]
  },
  {
   "cell_type": "markdown",
   "id": "bde70f4d-9ecd-44c9-9ba5-324a53d340a2",
   "metadata": {},
   "source": [
    "Two version of the GSEA results are saved with a 0.1 and 0.9 adjusted p-value threshold. The 0.1 threshold is used for all GO BP comparisons referenced in the manuscript. The 0.9 threshold is used for a Normalized Enrichment Score comparison that is completed later in this notebook."
   ]
  },
  {
   "cell_type": "code",
   "execution_count": null,
   "id": "4f3721ed",
   "metadata": {},
   "outputs": [
    {
     "name": "stderr",
     "output_type": "stream",
     "text": [
      "'select()' returned 1:many mapping between keys and columns\n",
      "\n",
      "preparing geneSet collections...\n",
      "\n",
      "GSEA analysis...\n",
      "\n",
      "Warning message in preparePathwaysAndStats(pathways, stats, minSize, maxSize, gseaParam, :\n",
      "“There are ties in the preranked stats (0.15% of the list).\n",
      "The order of those tied genes will be arbitrary, which may produce unexpected results.”\n",
      "no term enriched under specific pvalueCutoff...\n",
      "\n"
     ]
    }
   ],
   "source": [
    "foldchanges <- read.table('./data/expression_results/glds47_fc_and_pvals.csv', sep=\",\", header = T)\n",
    "foldchanges$ENTREZID <-mapIds(org.Mm.eg.db,keys = foldchanges$gene ,keytype = \"ENSEMBL\", column = \"ENTREZID\", multiVals = \"first\")\n",
    "foldchanges <- foldchanges[!duplicated(foldchanges[c(\"ENTREZID\")]),]\n",
    "\n",
    "rankMetric <- foldchanges$log2fc\n",
    "names(rankMetric) <- foldchanges$ENTREZID\n",
    "\n",
    "rankMetric <- sort(rankMetric, decreasing = TRUE)\n",
    "\n",
    "run_gsea(rankMetric, \"go_bp_comparison_results/47_gseGO_high_pval.tsv\", \"single_study_go_terms/GLDS-47-GO.tsv\")"
   ]
  },
  {
   "cell_type": "code",
   "execution_count": 231,
   "id": "429c1f35-5634-4646-813e-28e4b30360b4",
   "metadata": {},
   "outputs": [
    {
     "name": "stderr",
     "output_type": "stream",
     "text": [
      "'select()' returned 1:many mapping between keys and columns\n",
      "\n",
      "preparing geneSet collections...\n",
      "\n",
      "GSEA analysis...\n",
      "\n",
      "Warning message in preparePathwaysAndStats(pathways, stats, minSize, maxSize, gseaParam, :\n",
      "“There are ties in the preranked stats (1.92% of the list).\n",
      "The order of those tied genes will be arbitrary, which may produce unexpected results.”\n",
      "leading edge analysis...\n",
      "\n",
      "done...\n",
      "\n"
     ]
    }
   ],
   "source": [
    "foldchanges <- read.table('./data/expression_results/glds168rr1_fc_and_pvals.csv', sep=\",\", header = T)\n",
    "foldchanges$ENTREZID <-mapIds(org.Mm.eg.db,keys = foldchanges$gene ,keytype = \"ENSEMBL\", column = \"ENTREZID\", multiVals = \"first\")\n",
    "foldchanges <- foldchanges[!duplicated(foldchanges[c(\"ENTREZID\")]),]\n",
    "\n",
    "rankMetric <- foldchanges$log2fc\n",
    "names(rankMetric) <- foldchanges$ENTREZID\n",
    "\n",
    "rankMetric <- sort(rankMetric, decreasing = TRUE)\n",
    "\n",
    "run_gsea(rankMetric, \"go_bp_comparison_results/168_RR1_gseGO_high_pval.tsv\", \"single_study_go_terms/GLDS-168_RR1-GO.tsv\")"
   ]
  },
  {
   "cell_type": "code",
   "execution_count": null,
   "id": "ade01ac0",
   "metadata": {},
   "outputs": [
    {
     "name": "stderr",
     "output_type": "stream",
     "text": [
      "'select()' returned 1:many mapping between keys and columns\n",
      "\n",
      "preparing geneSet collections...\n",
      "\n",
      "GSEA analysis...\n",
      "\n",
      "Warning message in preparePathwaysAndStats(pathways, stats, minSize, maxSize, gseaParam, :\n",
      "“There are ties in the preranked stats (0.07% of the list).\n",
      "The order of those tied genes will be arbitrary, which may produce unexpected results.”\n",
      "no term enriched under specific pvalueCutoff...\n",
      "\n"
     ]
    }
   ],
   "source": [
    "foldchanges <- read.table('./data/expression_results/glds168rr3_fc_and_pvals.csv', sep=\",\", header = T)\n",
    "foldchanges$ENTREZID <-mapIds(org.Mm.eg.db,keys = foldchanges$gene ,keytype = \"ENSEMBL\", column = \"ENTREZID\", multiVals = \"first\")\n",
    "foldchanges <- foldchanges[!duplicated(foldchanges[c(\"ENTREZID\")]),]\n",
    "\n",
    "rankMetric <- foldchanges$log2fc\n",
    "names(rankMetric) <- foldchanges$ENTREZID\n",
    "\n",
    "rankMetric <- sort(rankMetric, decreasing = TRUE)\n",
    "\n",
    "run_gsea(rankMetric, \"go_bp_comparison_results/168_RR3_gseGO_high_pval.tsv\", \"single_study_go_terms/GLDS-168_RR3-GO.tsv\")"
   ]
  },
  {
   "cell_type": "code",
   "execution_count": 233,
   "id": "4876ede2",
   "metadata": {},
   "outputs": [
    {
     "name": "stderr",
     "output_type": "stream",
     "text": [
      "'select()' returned 1:many mapping between keys and columns\n",
      "\n",
      "preparing geneSet collections...\n",
      "\n",
      "GSEA analysis...\n",
      "\n",
      "Warning message in preparePathwaysAndStats(pathways, stats, minSize, maxSize, gseaParam, :\n",
      "“There are ties in the preranked stats (0.1% of the list).\n",
      "The order of those tied genes will be arbitrary, which may produce unexpected results.”\n",
      "leading edge analysis...\n",
      "\n",
      "done...\n",
      "\n"
     ]
    }
   ],
   "source": [
    "foldchanges <- read.table('./data/expression_results/glds245_fc_and_pvals.csv', sep=\",\", header = T)\n",
    "foldchanges$ENTREZID <-mapIds(org.Mm.eg.db,keys = foldchanges$gene ,keytype = \"ENSEMBL\", column = \"ENTREZID\", multiVals = \"first\")\n",
    "foldchanges <- foldchanges[!duplicated(foldchanges[c(\"ENTREZID\")]),]\n",
    "\n",
    "rankMetric <- foldchanges$log2fc\n",
    "names(rankMetric) <- foldchanges$ENTREZID\n",
    "\n",
    "rankMetric <- sort(rankMetric, decreasing = TRUE)\n",
    "\n",
    "run_gsea(rankMetric, \"go_bp_comparison_results/245_gseGO_high_pval.tsv\", \"single_study_go_terms/GLDS-245-GO.tsv\")"
   ]
  },
  {
   "cell_type": "code",
   "execution_count": 234,
   "id": "dde7761d",
   "metadata": {},
   "outputs": [
    {
     "name": "stderr",
     "output_type": "stream",
     "text": [
      "'select()' returned 1:many mapping between keys and columns\n",
      "\n",
      "preparing geneSet collections...\n",
      "\n",
      "GSEA analysis...\n",
      "\n",
      "Warning message in preparePathwaysAndStats(pathways, stats, minSize, maxSize, gseaParam, :\n",
      "“There are ties in the preranked stats (0.17% of the list).\n",
      "The order of those tied genes will be arbitrary, which may produce unexpected results.”\n",
      "leading edge analysis...\n",
      "\n",
      "done...\n",
      "\n"
     ]
    }
   ],
   "source": [
    "foldchanges <- read.table('./data/expression_results/glds242_fc_and_pvals.csv', sep=\",\", header = T)\n",
    "foldchanges$ENTREZID <-mapIds(org.Mm.eg.db,keys = foldchanges$gene ,keytype = \"ENSEMBL\", column = \"ENTREZID\", multiVals = \"first\")\n",
    "foldchanges <- foldchanges[!duplicated(foldchanges[c(\"ENTREZID\")]),]\n",
    "\n",
    "rankMetric <- foldchanges$log2fc\n",
    "names(rankMetric) <- foldchanges$ENTREZID\n",
    "\n",
    "rankMetric <- sort(rankMetric, decreasing = TRUE)\n",
    "\n",
    "run_gsea(rankMetric, \"go_bp_comparison_results/242_gseGO_high_pval.tsv\", \"single_study_go_terms/GLDS-242-GO.tsv\")"
   ]
  },
  {
   "cell_type": "code",
   "execution_count": 235,
   "id": "f541b57a",
   "metadata": {},
   "outputs": [
    {
     "name": "stderr",
     "output_type": "stream",
     "text": [
      "'select()' returned 1:many mapping between keys and columns\n",
      "\n",
      "preparing geneSet collections...\n",
      "\n",
      "GSEA analysis...\n",
      "\n",
      "Warning message in preparePathwaysAndStats(pathways, stats, minSize, maxSize, gseaParam, :\n",
      "“There are ties in the preranked stats (0.11% of the list).\n",
      "The order of those tied genes will be arbitrary, which may produce unexpected results.”\n",
      "leading edge analysis...\n",
      "\n",
      "done...\n",
      "\n"
     ]
    }
   ],
   "source": [
    "foldchanges <- read.table('./data/expression_results/glds379_fc_and_pvals.csv', sep=\",\", header = T)\n",
    "foldchanges$ENTREZID <-mapIds(org.Mm.eg.db,keys = foldchanges$gene ,keytype = \"ENSEMBL\", column = \"ENTREZID\", multiVals = \"first\")\n",
    "foldchanges <- foldchanges[!duplicated(foldchanges[c(\"ENTREZID\")]),]\n",
    "\n",
    "rankMetric <- foldchanges$log2fc\n",
    "names(rankMetric) <- foldchanges$ENTREZID\n",
    "\n",
    "rankMetric <- sort(rankMetric, decreasing = TRUE)\n",
    "\n",
    "run_gsea(rankMetric, \"go_bp_comparison_results/379_gseGO_high_pval.tsv\", \"single_study_go_terms/GLDS-379-GO.tsv\")"
   ]
  },
  {
   "cell_type": "markdown",
   "id": "68fc5685",
   "metadata": {},
   "source": [
    "# SVM - Contributing Genes to GO BP Analysis"
   ]
  },
  {
   "cell_type": "markdown",
   "id": "11417bf8",
   "metadata": {},
   "source": [
    "[Quick Links](#Quick-links)"
   ]
  },
  {
   "cell_type": "code",
   "execution_count": null,
   "id": "652957af",
   "metadata": {},
   "outputs": [],
   "source": [
    "svm_df <- read.table(paste0(\"./data/combined_study_go_terms/svm_coeff_gseGO.tsv\"), sep=\"\\t\", header = T)"
   ]
  },
  {
   "cell_type": "code",
   "execution_count": null,
   "id": "5075321e",
   "metadata": {},
   "outputs": [],
   "source": [
    "valid_id <- c('GO:0002526',  'GO:0006261',  'GO:0022408',  'GO:0007162',  'GO:0045342',  'GO:0003009',  'GO:0010951',  'GO:0019884',  'GO:0045346',  'GO:0000727',  'GO:0031294',  'GO:0009101',  'GO:0098659',  'GO:0099587',  'GO:0006271',  'GO:0007600',  'GO:0006268',  'GO:0032400',  'GO:0048305',  'GO:0023061',  'GO:0018200',  'GO:0007611',  'GO:0033619',  'GO:0051875',  'GO:0002440',  'GO:0050920',  'GO:0031295',  'GO:0050879',  'GO:0050881',  'GO:0018095',  'GO:0099537',  'GO:0006270',  'GO:0019233',  'GO:0052646',  'GO:0031649',  'GO:0050663',  'GO:0002827',  'GO:2000514',  'GO:0032946',  'GO:0042060',  'GO:0007268',  'GO:0098916',  'GO:0060055',  'GO:0046640',  'GO:0045620',  'GO:0050890',  'GO:0006022',  'GO:0045785',  'GO:1903510',  'GO:0050731',  'GO:0045214',  'GO:0002347',  'GO:0032633',  'GO:0006023',  'GO:0021694',  'GO:0007379',  'GO:1901890',  'GO:0030203',  'GO:0035592',  'GO:1901077',  'GO:0002286',  'GO:0002418',  'GO:0032401',  'GO:0043370',  'GO:0006120',  'GO:0050921',  'GO:0060338',  'GO:0007613',  'GO:0045907',  'GO:0043501',  'GO:0051905',  'GO:0006638',  'GO:0006639',  'GO:0008015',  'GO:0001660',  'GO:0007601',  'GO:0032945',  'GO:2000516',  'GO:0009611',  'GO:0006953',  'GO:0021692',  'GO:0071692',  'GO:0030239',  'GO:0032402',  'GO:0055001',  'GO:0002834',  'GO:0002837',  'GO:0002790',  'GO:0099054',  'GO:2000379',  'GO:0060009',  'GO:0050707',  'GO:0043405',  'GO:0099177',  'GO:0061383',  'GO:0035994',  'GO:0007610')"
   ]
  },
  {
   "cell_type": "code",
   "execution_count": null,
   "id": "120e576c",
   "metadata": {},
   "outputs": [],
   "source": [
    "filtered_svm_df <- svm_df[,c('ID', 'Description', 'core_enrichment')] %>% dplyr::filter(ID %in% valid_id)\n",
    "#filtered_svm_df[#,c('ID', 'Description')] %>% write.table(paste0(\"./data/go_bp_comparison_results/svm-only-bps.tsv\"), sep=\"\\t\",quote=FALSE,row.names=F)\n",
    "\n",
    "entrez_list <- filtered_svm_df$core_enrichment %>% str_split(\"/\")\n",
    "flattened_entrez_list <- entrez_list %>% unlist()"
   ]
  },
  {
   "cell_type": "code",
   "execution_count": null,
   "id": "277ed54c",
   "metadata": {
    "scrolled": true
   },
   "outputs": [
    {
     "name": "stderr",
     "output_type": "stream",
     "text": [
      "'select()' returned 1:many mapping between keys and columns\n",
      "\n",
      "'select()' returned 1:1 mapping between keys and columns\n",
      "\n"
     ]
    }
   ],
   "source": [
    "# extracting unique set of entrezids\n",
    "# flattened_entrez_list %>% enframe(value=\"ENTREZID\") %>% dplyr::select(\"ENTREZID\") %>% dplyr::distinct()\n",
    "\n",
    "entrez_counts <- flattened_entrez_list %>% \n",
    "                enframe(value=\"ENTREZID\") %>% \n",
    "                dplyr::select(\"ENTREZID\") %>% \n",
    "                dplyr::group_by(ENTREZID) %>% \n",
    "                dplyr::summarise(n=n()) %>%\n",
    "                dplyr::arrange(desc(n))\n",
    "\n",
    "entrez_overlaps <- entrez_counts %>% dplyr::filter(n>=15) %>% dplyr::select(ENTREZID)\n",
    "entrez_list_tibble <- entrez_list %>% enframe(value='entrez_gene_list') %>% dplyr::mutate(contains_top_genes = '')\n",
    "\n",
    "for (i in 1:102) { \n",
    "    intersects <- intersect(unlist(entrez_list[i]), entrez_overlaps$ENTREZID)\n",
    "    print(paste(i, as.list(intersects)))\n",
    "    if (length(intersects) > 0) {\n",
    "        entrez_list_tibble[i,3] <- paste(intersects, collapse=',')\n",
    "    }   \n",
    "}\n",
    "\n",
    "entrez_counts$ENSEMBLID <- mapIds(org.Mm.eg.db,keys = entrez_counts$ENTREZID ,keytype = \"ENTREZID\", column = \"ENSEMBL\", multiVals = \"first\")\n",
    "entrez_counts$SYMBOL <- mapIds(org.Mm.eg.db,keys = entrez_counts$ENTREZID ,keytype = \"ENTREZID\", column = \"SYMBOL\", multiVals = \"first\")"
   ]
  },
  {
   "cell_type": "code",
   "execution_count": null,
   "id": "454724d8",
   "metadata": {
    "tags": []
   },
   "outputs": [
    {
     "data": {
      "text/html": [
       "<table class=\"dataframe\">\n",
       "<caption>A tibble: 6 × 4</caption>\n",
       "<thead>\n",
       "\t<tr><th scope=col>ENTREZID</th><th scope=col>n</th><th scope=col>ENSEMBLID</th><th scope=col>SYMBOL</th></tr>\n",
       "\t<tr><th scope=col>&lt;chr&gt;</th><th scope=col>&lt;int&gt;</th><th scope=col>&lt;chr&gt;</th><th scope=col>&lt;chr&gt;</th></tr>\n",
       "</thead>\n",
       "<tbody>\n",
       "\t<tr><td>16176</td><td>24</td><td>ENSMUSG00000027398</td><td>Il1b </td></tr>\n",
       "\t<tr><td>21803</td><td>21</td><td>ENSMUSG00000002603</td><td>Tgfb1</td></tr>\n",
       "\t<tr><td>12772</td><td>19</td><td>ENSMUSG00000049103</td><td>Ccr2 </td></tr>\n",
       "\t<tr><td>11554</td><td>17</td><td>ENSMUSG00000035283</td><td>Adrb1</td></tr>\n",
       "\t<tr><td>11555</td><td>17</td><td>ENSMUSG00000045730</td><td>Adrb2</td></tr>\n",
       "\t<tr><td>16963</td><td>16</td><td>ENSMUSG00000026573</td><td>Xcl1 </td></tr>\n",
       "</tbody>\n",
       "</table>\n"
      ],
      "text/latex": [
       "A tibble: 6 × 4\n",
       "\\begin{tabular}{llll}\n",
       " ENTREZID & n & ENSEMBLID & SYMBOL\\\\\n",
       " <chr> & <int> & <chr> & <chr>\\\\\n",
       "\\hline\n",
       "\t 16176 & 24 & ENSMUSG00000027398 & Il1b \\\\\n",
       "\t 21803 & 21 & ENSMUSG00000002603 & Tgfb1\\\\\n",
       "\t 12772 & 19 & ENSMUSG00000049103 & Ccr2 \\\\\n",
       "\t 11554 & 17 & ENSMUSG00000035283 & Adrb1\\\\\n",
       "\t 11555 & 17 & ENSMUSG00000045730 & Adrb2\\\\\n",
       "\t 16963 & 16 & ENSMUSG00000026573 & Xcl1 \\\\\n",
       "\\end{tabular}\n"
      ],
      "text/markdown": [
       "\n",
       "A tibble: 6 × 4\n",
       "\n",
       "| ENTREZID &lt;chr&gt; | n &lt;int&gt; | ENSEMBLID &lt;chr&gt; | SYMBOL &lt;chr&gt; |\n",
       "|---|---|---|---|\n",
       "| 16176 | 24 | ENSMUSG00000027398 | Il1b  |\n",
       "| 21803 | 21 | ENSMUSG00000002603 | Tgfb1 |\n",
       "| 12772 | 19 | ENSMUSG00000049103 | Ccr2  |\n",
       "| 11554 | 17 | ENSMUSG00000035283 | Adrb1 |\n",
       "| 11555 | 17 | ENSMUSG00000045730 | Adrb2 |\n",
       "| 16963 | 16 | ENSMUSG00000026573 | Xcl1  |\n",
       "\n"
      ],
      "text/plain": [
       "  ENTREZID n  ENSEMBLID          SYMBOL\n",
       "1 16176    24 ENSMUSG00000027398 Il1b  \n",
       "2 21803    21 ENSMUSG00000002603 Tgfb1 \n",
       "3 12772    19 ENSMUSG00000049103 Ccr2  \n",
       "4 11554    17 ENSMUSG00000035283 Adrb1 \n",
       "5 11555    17 ENSMUSG00000045730 Adrb2 \n",
       "6 16963    16 ENSMUSG00000026573 Xcl1  "
      ]
     },
     "metadata": {},
     "output_type": "display_data"
    }
   ],
   "source": [
    "entrez_counts %>% dplyr::filter(n>=10) %>% head()"
   ]
  },
  {
   "cell_type": "markdown",
   "id": "325c392a",
   "metadata": {},
   "source": [
    "# SVM to RR Mission GO BP Comparison"
   ]
  },
  {
   "cell_type": "markdown",
   "id": "fb2c2c98",
   "metadata": {},
   "source": [
    "[Quick Links](#Quick-links)"
   ]
  },
  {
   "cell_type": "code",
   "execution_count": 4,
   "id": "bfcd8681",
   "metadata": {},
   "outputs": [],
   "source": [
    "svm_high_pval_df <- read.table(paste0(\"./data/go_bp_comparison_results/svm_gseGO_high_pval.tsv\"), sep=\"\\t\", header = T)\n",
    "rr8_high_pval_df <- read.table(paste0(\"./data/go_bp_comparison_results/379_gseGO_high_pval.tsv\"), sep=\"\\t\", header = T)\n",
    "rr9_high_pval_df <- read.table(paste0(\"./data/go_bp_comparison_results/242_gseGO_high_pval.tsv\"), sep=\"\\t\", header = T)\n",
    "rr6_high_pval_df <- read.table(paste0(\"./data/go_bp_comparison_results/245_gseGO_high_pval.tsv\"), sep=\"\\t\", header = T)\n",
    "# rr1_casis_high_pval_df <- read.table(paste0(\"./data/go_bp_comparison_results/47_gseGO_high_pval.tsv\"), sep=\"\\t\", header = T)\n",
    "rr1_nasa_high_pval_df <- read.table(paste0(\"./data/go_bp_comparison_results/168_RR1_gseGO_high_pval.tsv\"), sep=\"\\t\", header = T)\n",
    "# rr3_high_pval_df <- read.table(paste0(\"./data/go_bp_comparison_results/168_RR3_gseGO_high_pval.tsv\"), sep=\"\\t\", header = T)"
   ]
  },
  {
   "cell_type": "code",
   "execution_count": 5,
   "id": "2e8e2a09",
   "metadata": {},
   "outputs": [],
   "source": [
    "study <- 'RR1_NASA'\n",
    "\n",
    "if(study == 'RR1_NASA') {\n",
    "    rr_dataset <- rr1_nasa_high_pval_df\n",
    "} else if(study == 'RR6') {\n",
    "    rr_dataset <- rr6_high_pval_df\n",
    "} else if(study == 'RR8') {\n",
    "    rr_dataset <- rr8_high_pval_df\n",
    "} else if(study == 'RR9') {\n",
    "    rr_dataset <- rr9_high_pval_df\n",
    "} \n"
   ]
  },
  {
   "cell_type": "code",
   "execution_count": 6,
   "id": "95b119a7",
   "metadata": {},
   "outputs": [],
   "source": [
    "merged_df <- dplyr::inner_join(x=svm_high_pval_df, y=rr_dataset, by = 'ID') %>% \n",
    "dplyr::select(c('ID', 'Description.x', \n",
    "                'NES.x', 'p.adjust.x', 'core_enrichment.x',\n",
    "                'NES.y', 'p.adjust.y', 'core_enrichment.y')) %>%\n",
    "dplyr::mutate(\n",
    "    merged_significant=p.adjust.x <= 0.1, \n",
    "    single_significant=p.adjust.y <= 0.1\n",
    ") %>%\n",
    "dplyr::mutate(\n",
    "    both_significant = merged_significant * single_significant == TRUE,\n",
    "    both_not_significant = (merged_significant == FALSE) & (single_significant == FALSE) & (merged_significant * single_significant == FALSE),\n",
    "    merged_only = merged_significant == TRUE & single_significant == FALSE &  merged_significant * single_significant == FALSE,\n",
    "    single_only = merged_significant == FALSE & single_significant == TRUE &  merged_significant * single_significant == FALSE    \n",
    ") %>%\n",
    "dplyr::mutate(\n",
    "    `Sig. Group` = ifelse(both_significant, 'Both', ifelse(both_not_significant, 'None', ifelse(merged_only, 'Merged', 'Single')))\n",
    ")"
   ]
  },
  {
   "cell_type": "code",
   "execution_count": 7,
   "id": "36d33a12",
   "metadata": {},
   "outputs": [
    {
     "name": "stderr",
     "output_type": "stream",
     "text": [
      "Warning message:\n",
      "“\u001b[1m\u001b[22mRemoved 2984 rows containing missing values (`geom_point()`).”\n",
      "Warning message:\n",
      "“\u001b[1m\u001b[22mRemoved 2921 rows containing missing values (`geom_point()`).”\n",
      "Warning message:\n",
      "“\u001b[1m\u001b[22mRemoved 2310 rows containing missing values (`geom_point()`).”\n",
      "Warning message:\n",
      "“\u001b[1m\u001b[22mRemoved 3063 rows containing missing values (`geom_point()`).”\n"
     ]
    },
    {
     "data": {
      "image/png": "[encoded data removed]",
      "text/plain": [
       "plot without title"
      ]
     },
     "metadata": {
      "image/png": {
       "height": 420,
       "width": 420
      }
     },
     "output_type": "display_data"
    }
   ],
   "source": [
    "p1 <- merged_df %>% \n",
    "arrange(`Sig. Group`) %>% \n",
    "dplyr::mutate(`Sig. Group`=factor(`Sig. Group`, levels=c('None', 'Single', 'Merged', 'Both'))) %>%\n",
    "arrange(match(`Sig. Group`, c('None', 'Single', 'Merged', 'Both'))) %>%\n",
    "ggplot(aes(x=NES.y, y=NES.x, color=`Sig. Group`)) +\n",
    "    geom_point(show.legend = FALSE) +\n",
    "    geom_abline(slope=1,intercept=0) + \n",
    "    ylim(1,2.5) +\n",
    "    xlim(1,2.5)\n",
    "\n",
    "p2 <- merged_df %>% \n",
    "arrange(`Sig. Group`) %>% \n",
    "dplyr::mutate(`Sig. Group`=factor(`Sig. Group`, levels=c('None', 'Single', 'Merged', 'Both'))) %>%\n",
    "arrange(match(`Sig. Group`, c('None', 'Single', 'Merged', 'Both'))) %>%\n",
    "ggplot(aes(x=NES.y, y=NES.x, color=`Sig. Group`)) +\n",
    "    geom_point() + xlab('Single Study NES') +\n",
    "    ylim(-2.5, -1) +\n",
    "    xlim(1,2.5)\n",
    "\n",
    "p3 <- merged_df %>% \n",
    "arrange(`Sig. Group`) %>% \n",
    "dplyr::mutate(`Sig. Group`=factor(`Sig. Group`, levels=c('None', 'Single', 'Merged', 'Both'))) %>%\n",
    "arrange(match(`Sig. Group`, c('None', 'Single', 'Merged', 'Both'))) %>%\n",
    "ggplot(aes(x=NES.y, y=NES.x, color=`Sig. Group`)) +\n",
    "    geom_point(show.legend = FALSE) + ylab('') +\n",
    "    ylim(1,2.5) +\n",
    "    xlim(-2.5,-1)\n",
    "\n",
    "p4 <- merged_df %>% \n",
    "arrange(`Sig. Group`) %>% \n",
    "dplyr::mutate(`Sig. Group`=factor(`Sig. Group`, levels=c('None', 'Single', 'Merged', 'Both'))) %>%\n",
    "arrange(match(`Sig. Group`, c('None', 'Single', 'Merged', 'Both'))) %>%\n",
    "ggplot(aes(x=NES.y, y=NES.x, color=`Sig. Group`)) +\n",
    "    geom_point(show.legend = FALSE) + xlab('') + ylab('Merged NES') + \n",
    "    geom_abline(slope=1,intercept=0) + \n",
    "    ylim(-2.5,-1) +\n",
    "    xlim(-2.5,-1)\n",
    "\n",
    "cowplot::plot_grid(p3 + theme_classic() + theme(text = element_text(size = 18), axis.line.y = element_blank(), axis.text.x = element_blank(),\n",
    "                                    axis.title.x = element_blank()), \n",
    "                   p1 + theme_classic() + theme(text = element_text(size = 18),axis.text.y = element_blank(),\n",
    "                                    axis.ticks.y = element_blank(),\n",
    "                                    axis.title.y = element_blank(),\n",
    "                                    axis.text.x = element_blank(),\n",
    "                                    axis.ticks.x = element_blank(),\n",
    "                                    axis.title.x = element_blank() ), \n",
    "                   p4 + theme_classic() + theme(text = element_text(size = 18),\n",
    "                                                axis.line = element_blank(),\n",
    "                                               axis.title.y = element_text(hjust=1.75)) ,\n",
    "                   p2 + theme_classic() + theme(text = element_text(size = 18),axis.line.x = element_blank(), axis.text.y = element_blank(),\n",
    "                                    axis.ticks.y = element_blank(),\n",
    "                                    axis.title.y = element_blank(),\n",
    "                                    axis.title.x = element_text(hjust=-0.75),\n",
    "                                    legend.position = c(0.65, 0.25),\n",
    "                                    legend.text=element_text(size=14)),\n",
    "                   nrow = 2,\n",
    "                   labels = c('D', '', '', '', ''))"
   ]
  },
  {
   "cell_type": "code",
   "execution_count": 8,
   "id": "f5e0abb7",
   "metadata": {
    "scrolled": true
   },
   "outputs": [],
   "source": [
    "# merged_df %>% dplyr::group_by(`Sig. Group`) %>% dplyr::summarize(counts=n())"
   ]
  },
  {
   "cell_type": "code",
   "execution_count": 9,
   "id": "ef07bf59",
   "metadata": {
    "tags": []
   },
   "outputs": [
    {
     "name": "stderr",
     "output_type": "stream",
     "text": [
      "'select()' returned 1:many mapping between keys and columns\n",
      "\n",
      "'select()' returned 1:1 mapping between keys and columns\n",
      "\n",
      "'select()' returned 1:many mapping between keys and columns\n",
      "\n",
      "'select()' returned 1:1 mapping between keys and columns\n",
      "\n"
     ]
    }
   ],
   "source": [
    "group_list <- c('Single', 'Merged')\n",
    "for (i in 1:2) {\n",
    "    enrichment_df <- merged_df %>% dplyr::select(c('ID', 'Description.x', 'core_enrichment.x', 'core_enrichment.y', 'Sig. Group')) %>% dplyr::mutate(merged_genes=core_enrichment.x, single_genes=core_enrichment.y) \n",
    "    if (group_list[i] == 'Single') {\n",
    "        entrez_list <- enrichment_df %>% dplyr::filter(`Sig. Group` == group_list[i]) %>% dplyr::select(core_enrichment.y) %>% deframe() %>% str_split(\"/\")\n",
    "    } else if (group_list[i] == 'Merged'){\n",
    "        entrez_list <- enrichment_df %>% dplyr::filter(`Sig. Group` == group_list[i]) %>% dplyr::select(core_enrichment.x) %>% deframe() %>% str_split(\"/\")\n",
    "    }\n",
    "    flattened_entrez_list <- entrez_list %>% unlist()\n",
    "    # flattened_entrez_list\n",
    "\n",
    "    entrez_counts <- flattened_entrez_list %>% \n",
    "                    enframe(value=\"ENTREZID\") %>% \n",
    "                    dplyr::select(\"ENTREZID\") %>% \n",
    "                    dplyr::group_by(ENTREZID) %>% \n",
    "                    dplyr::summarise(n=n()) %>%\n",
    "                    dplyr::arrange(desc(n))\n",
    "\n",
    "    entrez_counts$ENSEMBLID <- mapIds(org.Mm.eg.db,keys = entrez_counts$ENTREZID ,keytype = \"ENTREZID\", column = \"ENSEMBL\", multiVals = \"first\")\n",
    "    entrez_counts$SYMBOL <- mapIds(org.Mm.eg.db,keys = entrez_counts$ENTREZID ,keytype = \"ENTREZID\", column = \"SYMBOL\", multiVals = \"first\")\n",
    "}\n"
   ]
  },
  {
   "cell_type": "code",
   "execution_count": 11,
   "id": "65cda51b",
   "metadata": {
    "scrolled": true,
    "tags": []
   },
   "outputs": [],
   "source": [
    "#merged_df %>% dplyr::select(c('ID', 'Description.x', 'Sig. Group')) %>% dplyr::filter(`Sig. Group` != 'None') "
   ]
  },
  {
   "cell_type": "markdown",
   "id": "901ade61",
   "metadata": {},
   "source": [
    "# Genetic Backround Comparison"
   ]
  },
  {
   "cell_type": "markdown",
   "id": "ca4be595",
   "metadata": {},
   "source": [
    "[Quick Links](#Quick-links)"
   ]
  },
  {
   "cell_type": "code",
   "execution_count": 12,
   "id": "80ec7475",
   "metadata": {},
   "outputs": [],
   "source": [
    "entrez_list <- merged_df %>% dplyr::filter(`Sig. Group` == 'Merged') %>% dplyr::select(core_enrichment.y) %>% deframe() %>% str_split(\"/\")\n",
    "flattened_entrez_list <- entrez_list %>% unlist()\n"
   ]
  },
  {
   "cell_type": "code",
   "execution_count": 13,
   "id": "a4d96234",
   "metadata": {
    "scrolled": true
   },
   "outputs": [
    {
     "name": "stderr",
     "output_type": "stream",
     "text": [
      "'select()' returned 1:many mapping between keys and columns\n",
      "\n",
      "'select()' returned 1:1 mapping between keys and columns\n",
      "\n"
     ]
    }
   ],
   "source": [
    "entrez_counts <- flattened_entrez_list %>% \n",
    "                enframe(value=\"ENTREZID\") %>% \n",
    "                dplyr::select(\"ENTREZID\") %>% \n",
    "                dplyr::group_by(ENTREZID) %>% \n",
    "                dplyr::summarise(n=n()) %>%\n",
    "                dplyr::arrange(desc(n))\n",
    "\n",
    "entrez_counts$ENSEMBLID <- mapIds(org.Mm.eg.db,keys = entrez_counts$ENTREZID ,keytype = \"ENTREZID\", column = \"ENSEMBL\", multiVals = \"first\")\n",
    "entrez_counts$SYMBOL <- mapIds(org.Mm.eg.db,keys = entrez_counts$ENTREZID ,keytype = \"ENTREZID\", column = \"SYMBOL\", multiVals = \"first\")"
   ]
  },
  {
   "cell_type": "code",
   "execution_count": 14,
   "id": "4e748ebc",
   "metadata": {},
   "outputs": [
    {
     "data": {
      "text/html": [
       "<table class=\"dataframe\">\n",
       "<caption>A tibble: 2 × 4</caption>\n",
       "<thead>\n",
       "\t<tr><th scope=col>ENTREZID</th><th scope=col>n</th><th scope=col>ENSEMBLID</th><th scope=col>SYMBOL</th></tr>\n",
       "\t<tr><th scope=col>&lt;chr&gt;</th><th scope=col>&lt;int&gt;</th><th scope=col>&lt;chr&gt;</th><th scope=col>&lt;chr&gt;</th></tr>\n",
       "</thead>\n",
       "<tbody>\n",
       "\t<tr><td>11622</td><td>9</td><td>ENSMUSG00000019256</td><td>Ahr</td></tr>\n",
       "\t<tr><td>12507</td><td>2</td><td>ENSMUSG00000024669</td><td>Cd5</td></tr>\n",
       "</tbody>\n",
       "</table>\n"
      ],
      "text/latex": [
       "A tibble: 2 × 4\n",
       "\\begin{tabular}{llll}\n",
       " ENTREZID & n & ENSEMBLID & SYMBOL\\\\\n",
       " <chr> & <int> & <chr> & <chr>\\\\\n",
       "\\hline\n",
       "\t 11622 & 9 & ENSMUSG00000019256 & Ahr\\\\\n",
       "\t 12507 & 2 & ENSMUSG00000024669 & Cd5\\\\\n",
       "\\end{tabular}\n"
      ],
      "text/markdown": [
       "\n",
       "A tibble: 2 × 4\n",
       "\n",
       "| ENTREZID &lt;chr&gt; | n &lt;int&gt; | ENSEMBLID &lt;chr&gt; | SYMBOL &lt;chr&gt; |\n",
       "|---|---|---|---|\n",
       "| 11622 | 9 | ENSMUSG00000019256 | Ahr |\n",
       "| 12507 | 2 | ENSMUSG00000024669 | Cd5 |\n",
       "\n"
      ],
      "text/plain": [
       "  ENTREZID n ENSEMBLID          SYMBOL\n",
       "1 11622    9 ENSMUSG00000019256 Ahr   \n",
       "2 12507    2 ENSMUSG00000024669 Cd5   "
      ]
     },
     "metadata": {},
     "output_type": "display_data"
    },
    {
     "data": {
      "text/html": [
       "<table class=\"dataframe\">\n",
       "<caption>A tibble: 2 × 4</caption>\n",
       "<thead>\n",
       "\t<tr><th scope=col>ENTREZID</th><th scope=col>n</th><th scope=col>ENSEMBLID</th><th scope=col>SYMBOL</th></tr>\n",
       "\t<tr><th scope=col>&lt;chr&gt;</th><th scope=col>&lt;int&gt;</th><th scope=col>&lt;chr&gt;</th><th scope=col>&lt;chr&gt;</th></tr>\n",
       "</thead>\n",
       "<tbody>\n",
       "\t<tr><td>11622</td><td>9</td><td>ENSMUSG00000019256</td><td>Ahr</td></tr>\n",
       "\t<tr><td>12507</td><td>2</td><td>ENSMUSG00000024669</td><td>Cd5</td></tr>\n",
       "</tbody>\n",
       "</table>\n"
      ],
      "text/latex": [
       "A tibble: 2 × 4\n",
       "\\begin{tabular}{llll}\n",
       " ENTREZID & n & ENSEMBLID & SYMBOL\\\\\n",
       " <chr> & <int> & <chr> & <chr>\\\\\n",
       "\\hline\n",
       "\t 11622 & 9 & ENSMUSG00000019256 & Ahr\\\\\n",
       "\t 12507 & 2 & ENSMUSG00000024669 & Cd5\\\\\n",
       "\\end{tabular}\n"
      ],
      "text/markdown": [
       "\n",
       "A tibble: 2 × 4\n",
       "\n",
       "| ENTREZID &lt;chr&gt; | n &lt;int&gt; | ENSEMBLID &lt;chr&gt; | SYMBOL &lt;chr&gt; |\n",
       "|---|---|---|---|\n",
       "| 11622 | 9 | ENSMUSG00000019256 | Ahr |\n",
       "| 12507 | 2 | ENSMUSG00000024669 | Cd5 |\n",
       "\n"
      ],
      "text/plain": [
       "  ENTREZID n ENSEMBLID          SYMBOL\n",
       "1 11622    9 ENSMUSG00000019256 Ahr   \n",
       "2 12507    2 ENSMUSG00000024669 Cd5   "
      ]
     },
     "metadata": {},
     "output_type": "display_data"
    },
    {
     "data": {
      "text/html": [
       "<table class=\"dataframe\">\n",
       "<caption>A tibble: 0 × 4</caption>\n",
       "<thead>\n",
       "\t<tr><th scope=col>ENTREZID</th><th scope=col>n</th><th scope=col>ENSEMBLID</th><th scope=col>SYMBOL</th></tr>\n",
       "\t<tr><th scope=col>&lt;chr&gt;</th><th scope=col>&lt;int&gt;</th><th scope=col>&lt;chr&gt;</th><th scope=col>&lt;chr&gt;</th></tr>\n",
       "</thead>\n",
       "<tbody>\n",
       "</tbody>\n",
       "</table>\n"
      ],
      "text/latex": [
       "A tibble: 0 × 4\n",
       "\\begin{tabular}{llll}\n",
       " ENTREZID & n & ENSEMBLID & SYMBOL\\\\\n",
       " <chr> & <int> & <chr> & <chr>\\\\\n",
       "\\hline\n",
       "\\end{tabular}\n"
      ],
      "text/markdown": [
       "\n",
       "A tibble: 0 × 4\n",
       "\n",
       "| ENTREZID &lt;chr&gt; | n &lt;int&gt; | ENSEMBLID &lt;chr&gt; | SYMBOL &lt;chr&gt; |\n",
       "|---|---|---|---|\n",
       "\n"
      ],
      "text/plain": [
       "     ENTREZID n ENSEMBLID SYMBOL"
      ]
     },
     "metadata": {},
     "output_type": "display_data"
    }
   ],
   "source": [
    "strain_gene_list = c('ENSMUSG00000012819', # CDH23 Balb/c & C57BL (not in prefiltered, but assayed)\n",
    "                   'ENSMUSG00000000386', # Mx1 Balb/c & C57BL (not in prefiltered, but assayed)\n",
    "                     'ENSMUSG00000024248', #Cox7a2l Balb/c & C57BL (in prefiltered)\n",
    "                     'ENSMUSG00000060802', #B2m Balb/c & C57BL (in prefiltered)\n",
    "                     'ENSMUSG00000029468', # P2rx7 C57BL (in prefiltered)\n",
    "                     'ENSMUSG00000019256', #Ahr C57BL (in prefiiltered)\n",
    "                     'ENSMUSG00000025453', #Nnt C57BL (in prefiltered)\n",
    "                     'ENSMUSG00000078817', # Nlrp12 C57BL (in prefiltered)\n",
    "                     'ENSMUSG00000009585', #Apobec3 C57BL (in prefiltered)\n",
    "                     'ENSMUSG00000024669', #Cd5 C57BL (in prefiltered)\n",
    "                     'ENSMUSG00000020804', #Aanat C57BL (not in prefiltered)\n",
    "                     'ENSMUSG00000000560', #Gabra2 C57BL (not in prefiltered)\n",
    "                     'ENSMUSG00000023262', #Acy1 Balbc (in prefiltered)\n",
    "                     'ENSMUSG00000028393', #Alad Balbc (in prefiltered)\n",
    "                     ''\n",
    "                   ) \n",
    "\n",
    "strain_symbol_list = c('Cdh23', # CDH23 Balb/c & C57BL (not in prefiltered, but assayed)\n",
    "                   'Mx1', # Mx1 Balb/c (not in prefiltered, but assayed)\n",
    "                     'Cox7a2l', #Cox7a2l Balb/c (in prefiltered)\n",
    "                     'B2m', #B2m Balb/c (in prefiltered)\n",
    "                     'P2rx7', # P2rx7 C57BL (in prefiltered)\n",
    "                     'Ahr', #Ahr C57BL (in prefiiltered)\n",
    "                     'Nnt', #Nnt C57BL (in prefiltered)\n",
    "                     'Nlrp12', # Nlrp12 C57BL (in prefiltered)\n",
    "                     'Apobec3', #Apobec3 C57BL (in prefiltered)\n",
    "                     'Cd5', #CD5 C57BL (in prefiltered)\n",
    "                     'Aanat', #Aanat C57BL (not in prefiltered)\n",
    "                     'Gabra2', #Gabra2 C57BL (not in prefiltered)\n",
    "                     'Acy1', #Acy1 Balbc (in prefiltered)\n",
    "                     'Alad', #Alad Balbc (in prefiltered)\n",
    "                     ''\n",
    "                   ) \n",
    "\n",
    "nafld_symbol_list <- c('PNPLA3', 'TM6SF2', 'MBOAT7', 'GCKR', 'HSD17B13')\n",
    "\n",
    "entrez_counts %>% dplyr::filter(ENSEMBLID %in% strain_gene_list)\n",
    "entrez_counts %>% dplyr::filter(SYMBOL %in% strain_symbol_list)\n",
    "entrez_counts %>% dplyr::filter(SYMBOL %in% nafld_symbol_list)"
   ]
  },
  {
   "cell_type": "markdown",
   "id": "a28d9d61",
   "metadata": {},
   "source": [
    "# SVM Only - Contributing Genes Comparison"
   ]
  },
  {
   "cell_type": "code",
   "execution_count": 15,
   "id": "7c3ee62c",
   "metadata": {},
   "outputs": [],
   "source": [
    "svm_high_pval_df <- read.table(paste0(\"./data/go_bp_comparison_results/svm_gseGO_high_pval.tsv\"), sep=\"\\t\", header = T)"
   ]
  },
  {
   "cell_type": "code",
   "execution_count": 16,
   "id": "9a0e3507",
   "metadata": {},
   "outputs": [],
   "source": [
    "#valid_id <- c('GO:0032946', 'GO:0002347', 'GO:0002834', 'GO:0002837', 'GO:0002418', 'GO:0006261', 'GO:0051346', 'GO:0010951', 'GO:0022408', 'GO:0007600', 'GO:0045346', 'GO:0007162', 'GO:0052646', 'GO:0031649', 'GO:0003009', 'GO:0045342', 'GO:0098659', 'GO:0099587', 'GO:0006953', 'GO:0051875', 'GO:0019233', 'GO:0002440', 'GO:0032400', 'GO:0031294', 'GO:0000727', 'GO:0018095', 'GO:0033619', 'GO:0050663', 'GO:0006270', 'GO:0006271', 'GO:0006268', 'GO:0018200', 'GO:0023061', 'GO:0007611', 'GO:0050731', 'GO:0031295', 'GO:0042730', 'GO:0042060', 'GO:0050920', 'GO:2000514', 'GO:0070664', 'GO:0099537', 'GO:0006638', 'GO:0021694', 'GO:0003013', 'GO:0008015', 'GO:0045785', 'GO:0050879', 'GO:0050881', 'GO:0001660', 'GO:0006639', 'GO:0007379', 'GO:0050672', 'GO:0007268', 'GO:0098916', 'GO:0048305', 'GO:0002790', 'GO:0007601', 'GO:0006829', 'GO:0032401', 'GO:0045214', 'GO:0002369', 'GO:0002724', 'GO:0016579', 'GO:2000379', 'GO:0035592', 'GO:2000311', 'GO:0002700', 'GO:0009306', 'GO:0050707', 'GO:0050435', 'GO:0071692', 'GO:0009611', 'GO:0050890', 'GO:0006023', 'GO:0021692', 'GO:0035825', 'GO:0000076', 'GO:0051905', 'GO:2000516', 'GO:0051952', 'GO:0060338', 'GO:0099054', 'GO:0002285', 'GO:0089718', 'GO:0015837', 'GO:0044786', 'GO:0007131', 'GO:0036037', 'GO:1901077', 'GO:0046339', 'GO:0046641', 'GO:1903510', 'GO:0050921', 'GO:0072511', 'GO:0030239', 'GO:0006022', 'GO:0043405', 'GO:0018108', 'GO:0006120', 'GO:0032402', 'GO:0002710')\n",
    "valid_id <- c('GO:0002526',  'GO:0006261',  'GO:0022408',  'GO:0007162',  'GO:0045342',  'GO:0003009',  'GO:0010951',  'GO:0019884',  'GO:0045346',  'GO:0000727',  'GO:0031294',  'GO:0009101',  'GO:0098659',  'GO:0099587',  'GO:0006271',  'GO:0007600',  'GO:0006268',  'GO:0032400',  'GO:0048305',  'GO:0023061',  'GO:0018200',  'GO:0007611',  'GO:0033619',  'GO:0051875',  'GO:0002440',  'GO:0050920',  'GO:0031295',  'GO:0050879',  'GO:0050881',  'GO:0018095',  'GO:0099537',  'GO:0006270',  'GO:0019233',  'GO:0052646',  'GO:0031649',  'GO:0050663',  'GO:0002827',  'GO:2000514',  'GO:0032946',  'GO:0042060',  'GO:0007268',  'GO:0098916',  'GO:0060055',  'GO:0046640',  'GO:0045620',  'GO:0050890',  'GO:0006022',  'GO:0045785',  'GO:1903510',  'GO:0050731',  'GO:0045214',  'GO:0002347',  'GO:0032633',  'GO:0006023',  'GO:0021694',  'GO:0007379',  'GO:1901890',  'GO:0030203',  'GO:0035592',  'GO:1901077',  'GO:0002286',  'GO:0002418',  'GO:0032401',  'GO:0043370',  'GO:0006120',  'GO:0050921',  'GO:0060338',  'GO:0007613',  'GO:0045907',  'GO:0043501',  'GO:0051905',  'GO:0006638',  'GO:0006639',  'GO:0008015',  'GO:0001660',  'GO:0007601',  'GO:0032945',  'GO:2000516',  'GO:0009611',  'GO:0006953',  'GO:0021692',  'GO:0071692',  'GO:0030239',  'GO:0032402',  'GO:0055001',  'GO:0002834',  'GO:0002837',  'GO:0002790',  'GO:0099054',  'GO:2000379',  'GO:0060009',  'GO:0050707',  'GO:0043405',  'GO:0099177',  'GO:0061383',  'GO:0035994',  'GO:0007610')"
   ]
  },
  {
   "cell_type": "code",
   "execution_count": 17,
   "id": "828f7b2f",
   "metadata": {},
   "outputs": [],
   "source": [
    "filtered_svm_df <- svm_high_pval_df[,c('ID', 'Description', 'core_enrichment')] %>% dplyr::filter(ID %in% valid_id)\n",
    "\n",
    "entrez_list <- filtered_svm_df$core_enrichment %>% str_split(\"/\")\n",
    "flattened_entrez_list <- entrez_list %>% unlist()"
   ]
  },
  {
   "cell_type": "code",
   "execution_count": 18,
   "id": "334ea51b",
   "metadata": {
    "scrolled": true,
    "tags": []
   },
   "outputs": [
    {
     "name": "stderr",
     "output_type": "stream",
     "text": [
      "'select()' returned 1:many mapping between keys and columns\n",
      "\n",
      "'select()' returned 1:1 mapping between keys and columns\n",
      "\n"
     ]
    }
   ],
   "source": [
    "# extracting unique set of entrezids\n",
    "entrez_counts <- flattened_entrez_list %>% \n",
    "                enframe(value=\"ENTREZID\") %>% \n",
    "                dplyr::select(\"ENTREZID\") %>% \n",
    "                dplyr::group_by(ENTREZID) %>% \n",
    "                dplyr::summarise(n=n()) %>%\n",
    "                dplyr::arrange(desc(n))\n",
    "\n",
    "entrez_overlaps <- entrez_counts %>% dplyr::filter(n>=15) %>% dplyr::select(ENTREZID)\n",
    "entrez_list_tibble <- entrez_list %>% enframe(value='entrez_gene_list') %>% dplyr::mutate(contains_top_genes = '')\n",
    "\n",
    "for (i in 1:97) { \n",
    "    intersects <- intersect(unlist(entrez_list[i]), entrez_overlaps$ENTREZID)\n",
    "    # print(paste(i, as.list(intersects)))\n",
    "    if (length(intersects) > 0) {\n",
    "        entrez_list_tibble[i,3] <- paste(intersects, collapse=',')\n",
    "    }   \n",
    "}\n",
    "\n",
    "entrez_counts$ENSEMBLID <- mapIds(org.Mm.eg.db,keys = entrez_counts$ENTREZID ,keytype = \"ENTREZID\", column = \"ENSEMBL\", multiVals = \"first\")\n",
    "entrez_counts$SYMBOL <- mapIds(org.Mm.eg.db,keys = entrez_counts$ENTREZID ,keytype = \"ENTREZID\", column = \"SYMBOL\", multiVals = \"first\")"
   ]
  },
  {
   "cell_type": "code",
   "execution_count": 19,
   "id": "ed23791b",
   "metadata": {
    "scrolled": true
   },
   "outputs": [
    {
     "data": {
      "text/html": [
       "<table class=\"dataframe\">\n",
       "<caption>A tibble: 28 × 4</caption>\n",
       "<thead>\n",
       "\t<tr><th scope=col>ENTREZID</th><th scope=col>n</th><th scope=col>ENSEMBLID</th><th scope=col>SYMBOL</th></tr>\n",
       "\t<tr><th scope=col>&lt;chr&gt;</th><th scope=col>&lt;int&gt;</th><th scope=col>&lt;chr&gt;</th><th scope=col>&lt;chr&gt;</th></tr>\n",
       "</thead>\n",
       "<tbody>\n",
       "\t<tr><td>21803 </td><td>24</td><td>ENSMUSG00000002603</td><td>Tgfb1 </td></tr>\n",
       "\t<tr><td>60533 </td><td>13</td><td>ENSMUSG00000016496</td><td>Cd274 </td></tr>\n",
       "\t<tr><td>12767 </td><td> 8</td><td>ENSMUSG00000045382</td><td>Cxcr4 </td></tr>\n",
       "\t<tr><td>14268 </td><td> 7</td><td>ENSMUSG00000026193</td><td>Fn1   </td></tr>\n",
       "\t<tr><td>18815 </td><td> 7</td><td>ENSMUSG00000059481</td><td>Plg   </td></tr>\n",
       "\t<tr><td>12842 </td><td> 6</td><td>ENSMUSG00000001506</td><td>Col1a1</td></tr>\n",
       "\t<tr><td>19264 </td><td> 6</td><td>ENSMUSG00000026395</td><td>Ptprc </td></tr>\n",
       "\t<tr><td>20423 </td><td> 5</td><td>ENSMUSG00000002633</td><td>Shh   </td></tr>\n",
       "\t<tr><td>11846 </td><td> 4</td><td>ENSMUSG00000019987</td><td>Arg1  </td></tr>\n",
       "\t<tr><td>18128 </td><td> 4</td><td>ENSMUSG00000026923</td><td>Notch1</td></tr>\n",
       "\t<tr><td>11898 </td><td> 3</td><td>ENSMUSG00000076441</td><td>Ass1  </td></tr>\n",
       "\t<tr><td>12504 </td><td> 3</td><td>ENSMUSG00000023274</td><td>Cd4   </td></tr>\n",
       "\t<tr><td>18613 </td><td> 3</td><td>ENSMUSG00000020717</td><td>Pecam1</td></tr>\n",
       "\t<tr><td>21926 </td><td> 3</td><td>ENSMUSG00000024401</td><td>Tnf   </td></tr>\n",
       "\t<tr><td>227231</td><td> 3</td><td>ENSMUSG00000025991</td><td>Cps1  </td></tr>\n",
       "\t<tr><td>12279 </td><td> 2</td><td>ENSMUSG00000022149</td><td>C9    </td></tr>\n",
       "\t<tr><td>12477 </td><td> 2</td><td>ENSMUSG00000026011</td><td>Ctla4 </td></tr>\n",
       "\t<tr><td>12978 </td><td> 2</td><td>ENSMUSG00000024621</td><td>Csf1r </td></tr>\n",
       "\t<tr><td>13179 </td><td> 2</td><td>ENSMUSG00000019929</td><td>Dcn   </td></tr>\n",
       "\t<tr><td>16364 </td><td> 2</td><td>ENSMUSG00000021356</td><td>Irf4  </td></tr>\n",
       "\t<tr><td>16449 </td><td> 2</td><td>ENSMUSG00000027276</td><td>Jag1  </td></tr>\n",
       "\t<tr><td>18538 </td><td> 2</td><td>ENSMUSG00000027342</td><td>Pcna  </td></tr>\n",
       "\t<tr><td>11657 </td><td> 1</td><td>ENSMUSG00000029368</td><td>Alb   </td></tr>\n",
       "\t<tr><td>13805 </td><td> 1</td><td>ENSMUSG00000026814</td><td>Eng   </td></tr>\n",
       "\t<tr><td>15213 </td><td> 1</td><td>ENSMUSG00000040289</td><td>Hey1  </td></tr>\n",
       "\t<tr><td>18703 </td><td> 1</td><td>ENSMUSG00000026417</td><td>Pigr  </td></tr>\n",
       "\t<tr><td>20682 </td><td> 1</td><td>ENSMUSG00000000567</td><td>Sox9  </td></tr>\n",
       "\t<tr><td>319757</td><td> 1</td><td>ENSMUSG00000001761</td><td>Smo   </td></tr>\n",
       "</tbody>\n",
       "</table>\n"
      ],
      "text/latex": [
       "A tibble: 28 × 4\n",
       "\\begin{tabular}{llll}\n",
       " ENTREZID & n & ENSEMBLID & SYMBOL\\\\\n",
       " <chr> & <int> & <chr> & <chr>\\\\\n",
       "\\hline\n",
       "\t 21803  & 24 & ENSMUSG00000002603 & Tgfb1 \\\\\n",
       "\t 60533  & 13 & ENSMUSG00000016496 & Cd274 \\\\\n",
       "\t 12767  &  8 & ENSMUSG00000045382 & Cxcr4 \\\\\n",
       "\t 14268  &  7 & ENSMUSG00000026193 & Fn1   \\\\\n",
       "\t 18815  &  7 & ENSMUSG00000059481 & Plg   \\\\\n",
       "\t 12842  &  6 & ENSMUSG00000001506 & Col1a1\\\\\n",
       "\t 19264  &  6 & ENSMUSG00000026395 & Ptprc \\\\\n",
       "\t 20423  &  5 & ENSMUSG00000002633 & Shh   \\\\\n",
       "\t 11846  &  4 & ENSMUSG00000019987 & Arg1  \\\\\n",
       "\t 18128  &  4 & ENSMUSG00000026923 & Notch1\\\\\n",
       "\t 11898  &  3 & ENSMUSG00000076441 & Ass1  \\\\\n",
       "\t 12504  &  3 & ENSMUSG00000023274 & Cd4   \\\\\n",
       "\t 18613  &  3 & ENSMUSG00000020717 & Pecam1\\\\\n",
       "\t 21926  &  3 & ENSMUSG00000024401 & Tnf   \\\\\n",
       "\t 227231 &  3 & ENSMUSG00000025991 & Cps1  \\\\\n",
       "\t 12279  &  2 & ENSMUSG00000022149 & C9    \\\\\n",
       "\t 12477  &  2 & ENSMUSG00000026011 & Ctla4 \\\\\n",
       "\t 12978  &  2 & ENSMUSG00000024621 & Csf1r \\\\\n",
       "\t 13179  &  2 & ENSMUSG00000019929 & Dcn   \\\\\n",
       "\t 16364  &  2 & ENSMUSG00000021356 & Irf4  \\\\\n",
       "\t 16449  &  2 & ENSMUSG00000027276 & Jag1  \\\\\n",
       "\t 18538  &  2 & ENSMUSG00000027342 & Pcna  \\\\\n",
       "\t 11657  &  1 & ENSMUSG00000029368 & Alb   \\\\\n",
       "\t 13805  &  1 & ENSMUSG00000026814 & Eng   \\\\\n",
       "\t 15213  &  1 & ENSMUSG00000040289 & Hey1  \\\\\n",
       "\t 18703  &  1 & ENSMUSG00000026417 & Pigr  \\\\\n",
       "\t 20682  &  1 & ENSMUSG00000000567 & Sox9  \\\\\n",
       "\t 319757 &  1 & ENSMUSG00000001761 & Smo   \\\\\n",
       "\\end{tabular}\n"
      ],
      "text/markdown": [
       "\n",
       "A tibble: 28 × 4\n",
       "\n",
       "| ENTREZID &lt;chr&gt; | n &lt;int&gt; | ENSEMBLID &lt;chr&gt; | SYMBOL &lt;chr&gt; |\n",
       "|---|---|---|---|\n",
       "| 21803  | 24 | ENSMUSG00000002603 | Tgfb1  |\n",
       "| 60533  | 13 | ENSMUSG00000016496 | Cd274  |\n",
       "| 12767  |  8 | ENSMUSG00000045382 | Cxcr4  |\n",
       "| 14268  |  7 | ENSMUSG00000026193 | Fn1    |\n",
       "| 18815  |  7 | ENSMUSG00000059481 | Plg    |\n",
       "| 12842  |  6 | ENSMUSG00000001506 | Col1a1 |\n",
       "| 19264  |  6 | ENSMUSG00000026395 | Ptprc  |\n",
       "| 20423  |  5 | ENSMUSG00000002633 | Shh    |\n",
       "| 11846  |  4 | ENSMUSG00000019987 | Arg1   |\n",
       "| 18128  |  4 | ENSMUSG00000026923 | Notch1 |\n",
       "| 11898  |  3 | ENSMUSG00000076441 | Ass1   |\n",
       "| 12504  |  3 | ENSMUSG00000023274 | Cd4    |\n",
       "| 18613  |  3 | ENSMUSG00000020717 | Pecam1 |\n",
       "| 21926  |  3 | ENSMUSG00000024401 | Tnf    |\n",
       "| 227231 |  3 | ENSMUSG00000025991 | Cps1   |\n",
       "| 12279  |  2 | ENSMUSG00000022149 | C9     |\n",
       "| 12477  |  2 | ENSMUSG00000026011 | Ctla4  |\n",
       "| 12978  |  2 | ENSMUSG00000024621 | Csf1r  |\n",
       "| 13179  |  2 | ENSMUSG00000019929 | Dcn    |\n",
       "| 16364  |  2 | ENSMUSG00000021356 | Irf4   |\n",
       "| 16449  |  2 | ENSMUSG00000027276 | Jag1   |\n",
       "| 18538  |  2 | ENSMUSG00000027342 | Pcna   |\n",
       "| 11657  |  1 | ENSMUSG00000029368 | Alb    |\n",
       "| 13805  |  1 | ENSMUSG00000026814 | Eng    |\n",
       "| 15213  |  1 | ENSMUSG00000040289 | Hey1   |\n",
       "| 18703  |  1 | ENSMUSG00000026417 | Pigr   |\n",
       "| 20682  |  1 | ENSMUSG00000000567 | Sox9   |\n",
       "| 319757 |  1 | ENSMUSG00000001761 | Smo    |\n",
       "\n"
      ],
      "text/plain": [
       "   ENTREZID n  ENSEMBLID          SYMBOL\n",
       "1  21803    24 ENSMUSG00000002603 Tgfb1 \n",
       "2  60533    13 ENSMUSG00000016496 Cd274 \n",
       "3  12767     8 ENSMUSG00000045382 Cxcr4 \n",
       "4  14268     7 ENSMUSG00000026193 Fn1   \n",
       "5  18815     7 ENSMUSG00000059481 Plg   \n",
       "6  12842     6 ENSMUSG00000001506 Col1a1\n",
       "7  19264     6 ENSMUSG00000026395 Ptprc \n",
       "8  20423     5 ENSMUSG00000002633 Shh   \n",
       "9  11846     4 ENSMUSG00000019987 Arg1  \n",
       "10 18128     4 ENSMUSG00000026923 Notch1\n",
       "11 11898     3 ENSMUSG00000076441 Ass1  \n",
       "12 12504     3 ENSMUSG00000023274 Cd4   \n",
       "13 18613     3 ENSMUSG00000020717 Pecam1\n",
       "14 21926     3 ENSMUSG00000024401 Tnf   \n",
       "15 227231    3 ENSMUSG00000025991 Cps1  \n",
       "16 12279     2 ENSMUSG00000022149 C9    \n",
       "17 12477     2 ENSMUSG00000026011 Ctla4 \n",
       "18 12978     2 ENSMUSG00000024621 Csf1r \n",
       "19 13179     2 ENSMUSG00000019929 Dcn   \n",
       "20 16364     2 ENSMUSG00000021356 Irf4  \n",
       "21 16449     2 ENSMUSG00000027276 Jag1  \n",
       "22 18538     2 ENSMUSG00000027342 Pcna  \n",
       "23 11657     1 ENSMUSG00000029368 Alb   \n",
       "24 13805     1 ENSMUSG00000026814 Eng   \n",
       "25 15213     1 ENSMUSG00000040289 Hey1  \n",
       "26 18703     1 ENSMUSG00000026417 Pigr  \n",
       "27 20682     1 ENSMUSG00000000567 Sox9  \n",
       "28 319757    1 ENSMUSG00000001761 Smo   "
      ]
     },
     "metadata": {},
     "output_type": "display_data"
    }
   ],
   "source": [
    "gene_list <- c('ENSMUSG00000032085','ENSMUSG00000026547','ENSMUSG00000019997','ENSMUSG00000045994','ENSMUSG00000030067','ENSMUSG00000021356','ENSMUSG00000057098','ENSMUSG00000068105','ENSMUSG00000024353','ENSMUSG00000003379','ENSMUSG00000032053','ENSMUSG00000040592','ENSMUSG00000041538','ENSMUSG00000030724','ENSMUSG00000024673','ENSMUSG00000026814','ENSMUSG00000020911','ENSMUSG00000000567','ENSMUSG00000023039','ENSMUSG00000045394','ENSMUSG00000066108','ENSMUSG00000029371','ENSMUSG00000026417','ENSMUSG00000037025','ENSMUSG00000045382','ENSMUSG00000059552','ENSMUSG00000024182','ENSMUSG00000000303','ENSMUSG00000026728','ENSMUSG00000026193','ENSMUSG00000037405','ENSMUSG00000029086','ENSMUSG00000035783','ENSMUSG00000001506','ENSMUSG00000021680','ENSMUSG00000021944','ENSMUSG00000040856','ENSMUSG00000054932','ENSMUSG00000029368','ENSMUSG00000059481','ENSMUSG00000019987','ENSMUSG00000025991','ENSMUSG00000022149','ENSMUSG00000074768','ENSMUSG00000076441','ENSMUSG00000017950','ENSMUSG00000024391','ENSMUSG00000050445','ENSMUSG00000032310','ENSMUSG00000026395','ENSMUSG00000026285','ENSMUSG00000016496','ENSMUSG00000031447','ENSMUSG00000039542','ENSMUSG00000002033','ENSMUSG00000023274','ENSMUSG00000053977','ENSMUSG00000053044','ENSMUSG00000051439','ENSMUSG00000018774','ENSMUSG00000008845','ENSMUSG00000030786','ENSMUSG00000025498','ENSMUSG00000024621','ENSMUSG00000024401','ENSMUSG00000020717','ENSMUSG00000002944','ENSMUSG00000006932','ENSMUSG00000028583','ENSMUSG00000024406','ENSMUSG00000031004','ENSMUSG00000027342','ENSMUSG00000041431','ENSMUSG00000020914','ENSMUSG00000020330','ENSMUSG00000019929','ENSMUSG00000028003','ENSMUSG00000047880','ENSMUSG00000025929','ENSMUSG00000002603','ENSMUSG00000026923','ENSMUSG00000030093','ENSMUSG00000039521','ENSMUSG00000026011','ENSMUSG00000025407','ENSMUSG00000023951','ENSMUSG00000022528','ENSMUSG00000048001','ENSMUSG00000040289','ENSMUSG00000027276','ENSMUSG00000022419','ENSMUSG00000002769','ENSMUSG00000021901','ENSMUSG00000025950','ENSMUSG00000030541','ENSMUSG00000040054','ENSMUSG00000022105','ENSMUSG00000036309','ENSMUSG00000070473','ENSMUSG00000001761','ENSMUSG00000002633')\n",
    "entrez_counts %>% dplyr::filter(ENSEMBLID %in% gene_list)"
   ]
  },
  {
   "cell_type": "markdown",
   "id": "be5141a5",
   "metadata": {},
   "source": [
    "# RR - Single & Merged Study Only Contributing Genes to GO BPs"
   ]
  },
  {
   "cell_type": "markdown",
   "id": "1abcd3ba",
   "metadata": {},
   "source": [
    "[Quick Links](#Quick-links)"
   ]
  },
  {
   "cell_type": "code",
   "execution_count": 20,
   "id": "a176fa04",
   "metadata": {},
   "outputs": [],
   "source": [
    "study_list <- list(rr1=list(), rr6=list(), rr8=list(), rr9=list())\n",
    "merged_list <- list(rr1=list(), rr6=list(), rr8=list(), rr9=list())"
   ]
  },
  {
   "cell_type": "code",
   "execution_count": 21,
   "id": "f84e09b0",
   "metadata": {},
   "outputs": [],
   "source": [
    "# rr_dataset <- rr1_casis_high_pval_df\n",
    "# rr_dataset <- rr3_high_pval_df\n",
    "study <- 'RR1_NASA'\n",
    "study <- 'RR6'\n",
    "study <- 'RR8'\n",
    "study <- 'RR9'\n",
    "\n",
    "if(study == 'RR1_NASA') {\n",
    "    rr_dataset <- rr1_nasa_high_pval_df\n",
    "} else if(study == 'RR6') {\n",
    "    rr_dataset <- rr6_high_pval_df\n",
    "} else if(study == 'RR8') {\n",
    "    rr_dataset <- rr8_high_pval_df\n",
    "} else if(study == 'RR9') {\n",
    "    rr_dataset <- rr9_high_pval_df\n",
    "} \n",
    "    \n",
    "threshold=5\n",
    "\n",
    "merged_df <- dplyr::inner_join(x=svm_high_pval_df, y=rr_dataset, by = 'ID') %>% \n",
    "dplyr::select(c('ID', 'Description.x', 'NES.x', 'p.adjust.x', 'NES.y', 'p.adjust.y', 'core_enrichment.x', 'core_enrichment.y')) %>%\n",
    "dplyr::mutate(\n",
    "    merged_significant=p.adjust.x <= 0.1, \n",
    "    single_significant=p.adjust.y <= 0.1\n",
    ") %>%\n",
    "dplyr::mutate(\n",
    "    both_significant = merged_significant * single_significant == TRUE,\n",
    "    both_not_significant = (merged_significant == FALSE) & (single_significant == FALSE) & (merged_significant * single_significant == FALSE),\n",
    "    merged_only = merged_significant == TRUE & single_significant == FALSE &  merged_significant * single_significant == FALSE,\n",
    "    single_only = merged_significant == FALSE & single_significant == TRUE &  merged_significant * single_significant == FALSE    \n",
    ") %>%\n",
    "dplyr::mutate(\n",
    "    `Sig. Group` = ifelse(both_significant, 'Both', ifelse(both_not_significant, 'None', ifelse(merged_only, 'Merged', 'Single')))\n",
    ") %>% \n",
    "dplyr::rename(\n",
    "    svm_genes = 'core_enrichment.x',\n",
    "    dge_genes = 'core_enrichment.y'\n",
    ")\n"
   ]
  },
  {
   "cell_type": "code",
   "execution_count": 22,
   "id": "d4445936",
   "metadata": {
    "scrolled": true
   },
   "outputs": [
    {
     "name": "stderr",
     "output_type": "stream",
     "text": [
      "Warning message in stri_split_regex(string, pattern, n = n, simplify = simplify, :\n",
      "“argument is not an atomic vector; coercing”\n",
      "Warning message in stri_split_regex(string, pattern, n = n, simplify = simplify, :\n",
      "“argument is not an atomic vector; coercing”\n",
      "'select()' returned 1:many mapping between keys and columns\n",
      "\n",
      "'select()' returned 1:1 mapping between keys and columns\n",
      "\n",
      "'select()' returned 1:many mapping between keys and columns\n",
      "\n",
      "'select()' returned 1:1 mapping between keys and columns\n",
      "\n"
     ]
    }
   ],
   "source": [
    "entrez_list <- merged_df %>% dplyr::filter(`Sig. Group` == 'Single') %>% dplyr::select(dge_genes) %>% stringr::str_split(\"/\")\n",
    "merged_entrez_list <- merged_df %>% dplyr::filter(`Sig. Group` == 'Merged') %>% dplyr::select(svm_genes) %>% stringr::str_split(\"/\")\n",
    "\n",
    "flattened_entrez_list <- entrez_list %>% unlist() %>% gsub('[^[:alnum:] ]', '', .) %>% gsub('[c]', '', .) %>% stringr::str_split(\" \") %>% unlist()\n",
    "merged_flattened_entrez_list <- merged_entrez_list %>% unlist() %>% gsub('[^[:alnum:] ]', '', .) %>% gsub('[c]', '', .) %>% stringr::str_split(\" \") %>% unlist()\n",
    "\n",
    "\n",
    "entrez_counts <- flattened_entrez_list %>% \n",
    "                enframe(value=\"ENTREZID\") %>% \n",
    "                dplyr::select(\"ENTREZID\") %>% \n",
    "                dplyr::group_by(ENTREZID) %>% \n",
    "                dplyr::summarise(n=n()) %>%\n",
    "                dplyr::arrange(desc(n))\n",
    "\n",
    "merged_entrez_counts <- merged_flattened_entrez_list %>% \n",
    "                enframe(value=\"ENTREZID\") %>% \n",
    "                dplyr::select(\"ENTREZID\") %>% \n",
    "                dplyr::group_by(ENTREZID) %>% \n",
    "                dplyr::summarise(n=n()) %>%\n",
    "                dplyr::arrange(desc(n))\n",
    "\n",
    "# entrez_overlaps <- entrez_counts %>% dplyr::filter(n>=15) %>% dplyr::select(ENTREZID)\n",
    "\n",
    "entrez_counts$ENSEMBLID <- mapIds(org.Mm.eg.db,keys = entrez_counts$ENTREZID ,keytype = \"ENTREZID\", column = \"ENSEMBL\", multiVals = \"first\")\n",
    "entrez_counts$SYMBOL <- mapIds(org.Mm.eg.db,keys = entrez_counts$ENTREZID ,keytype = \"ENTREZID\", column = \"SYMBOL\", multiVals = \"first\")\n",
    "\n",
    "merged_entrez_counts$ENSEMBLID <- mapIds(org.Mm.eg.db,keys = merged_entrez_counts$ENTREZID ,keytype = \"ENTREZID\", column = \"ENSEMBL\", multiVals = \"first\")\n",
    "merged_entrez_counts$SYMBOL <- mapIds(org.Mm.eg.db,keys = merged_entrez_counts$ENTREZID ,keytype = \"ENTREZID\", column = \"SYMBOL\", multiVals = \"first\")"
   ]
  }
 ],
 "metadata": {
  "kernelspec": {
   "display_name": "R",
   "language": "R",
   "name": "ir"
  },
  "language_info": {
   "codemirror_mode": "r",
   "file_extension": ".r",
   "mimetype": "text/x-r-source",
   "name": "R",
   "pygments_lexer": "r",
   "version": "4.0.5"
  }
 },
 "nbformat": 4,
 "nbformat_minor": 5
}
